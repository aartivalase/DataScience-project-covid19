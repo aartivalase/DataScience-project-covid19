{
 "cells": [
  {
   "cell_type": "markdown",
   "id": "23e922df",
   "metadata": {},
   "source": [
    "# Johns Hopkins Covid19"
   ]
  },
  {
   "cell_type": "markdown",
   "id": "d2f37ba9",
   "metadata": {},
   "source": [
    "<img src=\"COVID.jpg\" width=\"\">"
   ]
  },
  {
   "cell_type": "markdown",
   "id": "76db6360",
   "metadata": {},
   "source": [
    "# Contents\n",
    "\n",
    "* PROBLEM STATEMENT\n",
    "* DOMAIN ANALYSIS\n",
    "* DATASETS\n",
    "* COMBINING THE DATASETS\n",
    "* DATA DESCRIPTION\n",
    "  - For continnuous values\n",
    "  - For categorical values\n",
    "  - Insights from description\n",
    "* MAXIMUM CONFIRMED / RECOVERED / DEATH CASES\n",
    "* DISTRIBUTION OF COUNTRY AND STATUS\n",
    "* TOP 10 COUNTRIES IN EACH CATEGORIES\n",
    "* TIME SERIES PLOT FOR TOP 1-20 COUNTRIES\n",
    "* DATA ANALYSIS REPORT\n",
    "* SELECTING A SPECIFIC COUNTRY (US) FOR CONFIRMED CASES\n",
    "  - Plot for US confirmed cases\n",
    "  - Decompose timeseries components\n",
    "* ADFULLER TEST\n",
    "* DECOMPOSING\n",
    "  - Decomposing 1\n",
    "  - Decomposing 2\n",
    "  - Decomposing 3\n",
    "* PLOT TO CHECK STATIONARY\n",
    "* PLOTTING ACF AND PACF PLOT\n",
    "* TRAINING AND TESTING OF DATA\n",
    "* ARIMA MODEL\n",
    "  - Plot based on iterating params over pdq\n",
    "  - Plot based on intuition\n",
    "  - Plot for next 25 forecast\n",
    "  - Accuracy Metrics\n",
    "* SARIMAX MODEL\n",
    "  - Plot for next 10 forecast\n",
    "  - Plot for next 25 forecast\n",
    "  - Accuracy Metrics\n",
    "* MODEL COMPARISON REPORT\n",
    "* SUGGESTION\n",
    "* REPORT ON CHALLENGES FACED\n",
    "* CONCLUSION\n"
   ]
  },
  {
   "cell_type": "markdown",
   "id": "11ce5342",
   "metadata": {},
   "source": [
    "# Problem Statement\n",
    "\n",
    "##### Task 1:- Prepare a complete data analysis report on the given data.\n",
    "\n",
    "##### Task 2:- Fix a period for prediction of confirmed cases/deaths. Create a predictive model to forecast the Covid19 cases based on past cases for a specific country or region.\n",
    "\n",
    "##### Task3:- Make suggestions to the government health department of the country/region for preparation based on your predictions.\n"
   ]
  },
  {
   "cell_type": "markdown",
   "id": "dcf4c456",
   "metadata": {},
   "source": [
    "# Domain Analysis Report: John Hopkins COVID-19 Dataset\n",
    "\n",
    "##### Overview:\n",
    "The dataset from John Hopkins provides comprehensive information on the global impact of the COVID-19 pandemic.\n",
    "\n",
    "##### Temporal Coverage:\n",
    "The dataset spans multiple dates, allowing for temporal analysis and trend identification.\n",
    "\n",
    "##### Geographical Coverage:\n",
    "The dataset covers a diverse set of countries, showcasing the global impact of COVID-19.\n",
    "\n",
    "##### Status:\n",
    "'Confirmed', 'Death', and 'Recovered' cases, providing a detailed breakdown of COVID-19 outcomes.\n",
    "\n",
    "##### Country-Specific Analysis:\n",
    "In-depth analysis of specific countries, such as China with a notable frequency, can provide insights into regional trends.\n",
    "\n",
    "##### Use Cases:\n",
    "The dataset is valuable for epidemiologists, researchers, and policymakers for understanding the global and regional dynamics of the COVID-19 pandemic.\n",
    "\n",
    "##### Limitations:\n",
    "While informative, the dataset may have limitations such as reporting discrepancies, data entry errors, and variations in testing capacities among countries.\n",
    "\n",
    "##### Recommendations:\n",
    "Further exploration and statistical modeling could enhance insights into the progression of the pandemic.\n",
    "Careful consideration is needed when interpreting results, considering potential biases and limitations."
   ]
  },
  {
   "cell_type": "code",
   "execution_count": 1,
   "id": "51609571",
   "metadata": {},
   "outputs": [],
   "source": [
    "# Importing required libraries\n",
    "import numpy as np\n",
    "import pandas as pd\n",
    "import matplotlib.pyplot as plt\n",
    "import seaborn as sns\n",
    "from ipywidgets import interact, fixed\n",
    "import warnings\n",
    "warnings.filterwarnings('ignore')"
   ]
  },
  {
   "cell_type": "code",
   "execution_count": 2,
   "id": "2bad05cb",
   "metadata": {},
   "outputs": [],
   "source": [
    "# Load the datasets\n",
    "confirmed_data = pd.read_csv('time_series_covid19_confirmed_global.csv')\n",
    "recovery_data = pd.read_csv('time_series_covid19_recovered_global.csv')\n",
    "death_data = pd.read_csv('time_series_covid19_deaths_global.csv')"
   ]
  },
  {
   "cell_type": "markdown",
   "id": "de433b3f",
   "metadata": {},
   "source": [
    "# Datasets"
   ]
  },
  {
   "cell_type": "code",
   "execution_count": 3,
   "id": "4354cc4a",
   "metadata": {},
   "outputs": [
    {
     "data": {
      "text/html": [
       "<div>\n",
       "<style scoped>\n",
       "    .dataframe tbody tr th:only-of-type {\n",
       "        vertical-align: middle;\n",
       "    }\n",
       "\n",
       "    .dataframe tbody tr th {\n",
       "        vertical-align: top;\n",
       "    }\n",
       "\n",
       "    .dataframe thead th {\n",
       "        text-align: right;\n",
       "    }\n",
       "</style>\n",
       "<table border=\"1\" class=\"dataframe\">\n",
       "  <thead>\n",
       "    <tr style=\"text-align: right;\">\n",
       "      <th></th>\n",
       "      <th>Province/State</th>\n",
       "      <th>Country/Region</th>\n",
       "      <th>Lat</th>\n",
       "      <th>Long</th>\n",
       "      <th>1/22/20</th>\n",
       "      <th>1/23/20</th>\n",
       "      <th>1/24/20</th>\n",
       "      <th>1/25/20</th>\n",
       "      <th>1/26/20</th>\n",
       "      <th>1/27/20</th>\n",
       "      <th>...</th>\n",
       "      <th>9/12/20</th>\n",
       "      <th>9/13/20</th>\n",
       "      <th>9/14/20</th>\n",
       "      <th>9/15/20</th>\n",
       "      <th>9/16/20</th>\n",
       "      <th>9/17/20</th>\n",
       "      <th>9/18/20</th>\n",
       "      <th>9/19/20</th>\n",
       "      <th>9/20/20</th>\n",
       "      <th>9/21/20</th>\n",
       "    </tr>\n",
       "  </thead>\n",
       "  <tbody>\n",
       "    <tr>\n",
       "      <th>0</th>\n",
       "      <td>NaN</td>\n",
       "      <td>Afghanistan</td>\n",
       "      <td>33.93911</td>\n",
       "      <td>67.709953</td>\n",
       "      <td>0</td>\n",
       "      <td>0</td>\n",
       "      <td>0</td>\n",
       "      <td>0</td>\n",
       "      <td>0</td>\n",
       "      <td>0</td>\n",
       "      <td>...</td>\n",
       "      <td>38641</td>\n",
       "      <td>38716</td>\n",
       "      <td>38772</td>\n",
       "      <td>38815</td>\n",
       "      <td>38855</td>\n",
       "      <td>38872</td>\n",
       "      <td>38883</td>\n",
       "      <td>38919</td>\n",
       "      <td>39044</td>\n",
       "      <td>39074</td>\n",
       "    </tr>\n",
       "    <tr>\n",
       "      <th>1</th>\n",
       "      <td>NaN</td>\n",
       "      <td>Albania</td>\n",
       "      <td>41.15330</td>\n",
       "      <td>20.168300</td>\n",
       "      <td>0</td>\n",
       "      <td>0</td>\n",
       "      <td>0</td>\n",
       "      <td>0</td>\n",
       "      <td>0</td>\n",
       "      <td>0</td>\n",
       "      <td>...</td>\n",
       "      <td>11185</td>\n",
       "      <td>11353</td>\n",
       "      <td>11520</td>\n",
       "      <td>11672</td>\n",
       "      <td>11816</td>\n",
       "      <td>11948</td>\n",
       "      <td>12073</td>\n",
       "      <td>12226</td>\n",
       "      <td>12385</td>\n",
       "      <td>12535</td>\n",
       "    </tr>\n",
       "    <tr>\n",
       "      <th>2</th>\n",
       "      <td>NaN</td>\n",
       "      <td>Algeria</td>\n",
       "      <td>28.03390</td>\n",
       "      <td>1.659600</td>\n",
       "      <td>0</td>\n",
       "      <td>0</td>\n",
       "      <td>0</td>\n",
       "      <td>0</td>\n",
       "      <td>0</td>\n",
       "      <td>0</td>\n",
       "      <td>...</td>\n",
       "      <td>48007</td>\n",
       "      <td>48254</td>\n",
       "      <td>48496</td>\n",
       "      <td>48734</td>\n",
       "      <td>48966</td>\n",
       "      <td>49194</td>\n",
       "      <td>49413</td>\n",
       "      <td>49623</td>\n",
       "      <td>49826</td>\n",
       "      <td>50023</td>\n",
       "    </tr>\n",
       "    <tr>\n",
       "      <th>3</th>\n",
       "      <td>NaN</td>\n",
       "      <td>Andorra</td>\n",
       "      <td>42.50630</td>\n",
       "      <td>1.521800</td>\n",
       "      <td>0</td>\n",
       "      <td>0</td>\n",
       "      <td>0</td>\n",
       "      <td>0</td>\n",
       "      <td>0</td>\n",
       "      <td>0</td>\n",
       "      <td>...</td>\n",
       "      <td>1344</td>\n",
       "      <td>1344</td>\n",
       "      <td>1438</td>\n",
       "      <td>1438</td>\n",
       "      <td>1483</td>\n",
       "      <td>1483</td>\n",
       "      <td>1564</td>\n",
       "      <td>1564</td>\n",
       "      <td>1564</td>\n",
       "      <td>1681</td>\n",
       "    </tr>\n",
       "    <tr>\n",
       "      <th>4</th>\n",
       "      <td>NaN</td>\n",
       "      <td>Angola</td>\n",
       "      <td>-11.20270</td>\n",
       "      <td>17.873900</td>\n",
       "      <td>0</td>\n",
       "      <td>0</td>\n",
       "      <td>0</td>\n",
       "      <td>0</td>\n",
       "      <td>0</td>\n",
       "      <td>0</td>\n",
       "      <td>...</td>\n",
       "      <td>3335</td>\n",
       "      <td>3388</td>\n",
       "      <td>3439</td>\n",
       "      <td>3569</td>\n",
       "      <td>3675</td>\n",
       "      <td>3789</td>\n",
       "      <td>3848</td>\n",
       "      <td>3901</td>\n",
       "      <td>3991</td>\n",
       "      <td>4117</td>\n",
       "    </tr>\n",
       "  </tbody>\n",
       "</table>\n",
       "<p>5 rows × 248 columns</p>\n",
       "</div>"
      ],
      "text/plain": [
       "  Province/State Country/Region       Lat       Long  1/22/20  1/23/20  \\\n",
       "0            NaN    Afghanistan  33.93911  67.709953        0        0   \n",
       "1            NaN        Albania  41.15330  20.168300        0        0   \n",
       "2            NaN        Algeria  28.03390   1.659600        0        0   \n",
       "3            NaN        Andorra  42.50630   1.521800        0        0   \n",
       "4            NaN         Angola -11.20270  17.873900        0        0   \n",
       "\n",
       "   1/24/20  1/25/20  1/26/20  1/27/20  ...  9/12/20  9/13/20  9/14/20  \\\n",
       "0        0        0        0        0  ...    38641    38716    38772   \n",
       "1        0        0        0        0  ...    11185    11353    11520   \n",
       "2        0        0        0        0  ...    48007    48254    48496   \n",
       "3        0        0        0        0  ...     1344     1344     1438   \n",
       "4        0        0        0        0  ...     3335     3388     3439   \n",
       "\n",
       "   9/15/20  9/16/20  9/17/20  9/18/20  9/19/20  9/20/20  9/21/20  \n",
       "0    38815    38855    38872    38883    38919    39044    39074  \n",
       "1    11672    11816    11948    12073    12226    12385    12535  \n",
       "2    48734    48966    49194    49413    49623    49826    50023  \n",
       "3     1438     1483     1483     1564     1564     1564     1681  \n",
       "4     3569     3675     3789     3848     3901     3991     4117  \n",
       "\n",
       "[5 rows x 248 columns]"
      ]
     },
     "execution_count": 3,
     "metadata": {},
     "output_type": "execute_result"
    }
   ],
   "source": [
    "confirmed_data.head()"
   ]
  },
  {
   "cell_type": "code",
   "execution_count": 4,
   "id": "ffbe0366",
   "metadata": {},
   "outputs": [
    {
     "data": {
      "text/html": [
       "<div>\n",
       "<style scoped>\n",
       "    .dataframe tbody tr th:only-of-type {\n",
       "        vertical-align: middle;\n",
       "    }\n",
       "\n",
       "    .dataframe tbody tr th {\n",
       "        vertical-align: top;\n",
       "    }\n",
       "\n",
       "    .dataframe thead th {\n",
       "        text-align: right;\n",
       "    }\n",
       "</style>\n",
       "<table border=\"1\" class=\"dataframe\">\n",
       "  <thead>\n",
       "    <tr style=\"text-align: right;\">\n",
       "      <th></th>\n",
       "      <th>Province/State</th>\n",
       "      <th>Country/Region</th>\n",
       "      <th>Lat</th>\n",
       "      <th>Long</th>\n",
       "      <th>1/22/20</th>\n",
       "      <th>1/23/20</th>\n",
       "      <th>1/24/20</th>\n",
       "      <th>1/25/20</th>\n",
       "      <th>1/26/20</th>\n",
       "      <th>1/27/20</th>\n",
       "      <th>...</th>\n",
       "      <th>9/12/20</th>\n",
       "      <th>9/13/20</th>\n",
       "      <th>9/14/20</th>\n",
       "      <th>9/15/20</th>\n",
       "      <th>9/16/20</th>\n",
       "      <th>9/17/20</th>\n",
       "      <th>9/18/20</th>\n",
       "      <th>9/19/20</th>\n",
       "      <th>9/20/20</th>\n",
       "      <th>9/21/20</th>\n",
       "    </tr>\n",
       "  </thead>\n",
       "  <tbody>\n",
       "    <tr>\n",
       "      <th>0</th>\n",
       "      <td>NaN</td>\n",
       "      <td>Afghanistan</td>\n",
       "      <td>33.93911</td>\n",
       "      <td>67.709953</td>\n",
       "      <td>0</td>\n",
       "      <td>0</td>\n",
       "      <td>0</td>\n",
       "      <td>0</td>\n",
       "      <td>0</td>\n",
       "      <td>0</td>\n",
       "      <td>...</td>\n",
       "      <td>31234</td>\n",
       "      <td>31638</td>\n",
       "      <td>32073</td>\n",
       "      <td>32098</td>\n",
       "      <td>32503</td>\n",
       "      <td>32505</td>\n",
       "      <td>32576</td>\n",
       "      <td>32576</td>\n",
       "      <td>32576</td>\n",
       "      <td>32576</td>\n",
       "    </tr>\n",
       "    <tr>\n",
       "      <th>1</th>\n",
       "      <td>NaN</td>\n",
       "      <td>Albania</td>\n",
       "      <td>41.15330</td>\n",
       "      <td>20.168300</td>\n",
       "      <td>0</td>\n",
       "      <td>0</td>\n",
       "      <td>0</td>\n",
       "      <td>0</td>\n",
       "      <td>0</td>\n",
       "      <td>0</td>\n",
       "      <td>...</td>\n",
       "      <td>6494</td>\n",
       "      <td>6569</td>\n",
       "      <td>6615</td>\n",
       "      <td>6668</td>\n",
       "      <td>6733</td>\n",
       "      <td>6788</td>\n",
       "      <td>6831</td>\n",
       "      <td>6888</td>\n",
       "      <td>6940</td>\n",
       "      <td>6995</td>\n",
       "    </tr>\n",
       "    <tr>\n",
       "      <th>2</th>\n",
       "      <td>NaN</td>\n",
       "      <td>Algeria</td>\n",
       "      <td>28.03390</td>\n",
       "      <td>1.659600</td>\n",
       "      <td>0</td>\n",
       "      <td>0</td>\n",
       "      <td>0</td>\n",
       "      <td>0</td>\n",
       "      <td>0</td>\n",
       "      <td>0</td>\n",
       "      <td>...</td>\n",
       "      <td>33875</td>\n",
       "      <td>34037</td>\n",
       "      <td>34204</td>\n",
       "      <td>34385</td>\n",
       "      <td>34517</td>\n",
       "      <td>34675</td>\n",
       "      <td>34818</td>\n",
       "      <td>34923</td>\n",
       "      <td>35047</td>\n",
       "      <td>35180</td>\n",
       "    </tr>\n",
       "    <tr>\n",
       "      <th>3</th>\n",
       "      <td>NaN</td>\n",
       "      <td>Andorra</td>\n",
       "      <td>42.50630</td>\n",
       "      <td>1.521800</td>\n",
       "      <td>0</td>\n",
       "      <td>0</td>\n",
       "      <td>0</td>\n",
       "      <td>0</td>\n",
       "      <td>0</td>\n",
       "      <td>0</td>\n",
       "      <td>...</td>\n",
       "      <td>943</td>\n",
       "      <td>943</td>\n",
       "      <td>945</td>\n",
       "      <td>945</td>\n",
       "      <td>1054</td>\n",
       "      <td>1054</td>\n",
       "      <td>1164</td>\n",
       "      <td>1164</td>\n",
       "      <td>1164</td>\n",
       "      <td>1199</td>\n",
       "    </tr>\n",
       "    <tr>\n",
       "      <th>4</th>\n",
       "      <td>NaN</td>\n",
       "      <td>Angola</td>\n",
       "      <td>-11.20270</td>\n",
       "      <td>17.873900</td>\n",
       "      <td>0</td>\n",
       "      <td>0</td>\n",
       "      <td>0</td>\n",
       "      <td>0</td>\n",
       "      <td>0</td>\n",
       "      <td>0</td>\n",
       "      <td>...</td>\n",
       "      <td>1289</td>\n",
       "      <td>1301</td>\n",
       "      <td>1324</td>\n",
       "      <td>1332</td>\n",
       "      <td>1401</td>\n",
       "      <td>1405</td>\n",
       "      <td>1443</td>\n",
       "      <td>1445</td>\n",
       "      <td>1445</td>\n",
       "      <td>1449</td>\n",
       "    </tr>\n",
       "  </tbody>\n",
       "</table>\n",
       "<p>5 rows × 248 columns</p>\n",
       "</div>"
      ],
      "text/plain": [
       "  Province/State Country/Region       Lat       Long  1/22/20  1/23/20  \\\n",
       "0            NaN    Afghanistan  33.93911  67.709953        0        0   \n",
       "1            NaN        Albania  41.15330  20.168300        0        0   \n",
       "2            NaN        Algeria  28.03390   1.659600        0        0   \n",
       "3            NaN        Andorra  42.50630   1.521800        0        0   \n",
       "4            NaN         Angola -11.20270  17.873900        0        0   \n",
       "\n",
       "   1/24/20  1/25/20  1/26/20  1/27/20  ...  9/12/20  9/13/20  9/14/20  \\\n",
       "0        0        0        0        0  ...    31234    31638    32073   \n",
       "1        0        0        0        0  ...     6494     6569     6615   \n",
       "2        0        0        0        0  ...    33875    34037    34204   \n",
       "3        0        0        0        0  ...      943      943      945   \n",
       "4        0        0        0        0  ...     1289     1301     1324   \n",
       "\n",
       "   9/15/20  9/16/20  9/17/20  9/18/20  9/19/20  9/20/20  9/21/20  \n",
       "0    32098    32503    32505    32576    32576    32576    32576  \n",
       "1     6668     6733     6788     6831     6888     6940     6995  \n",
       "2    34385    34517    34675    34818    34923    35047    35180  \n",
       "3      945     1054     1054     1164     1164     1164     1199  \n",
       "4     1332     1401     1405     1443     1445     1445     1449  \n",
       "\n",
       "[5 rows x 248 columns]"
      ]
     },
     "execution_count": 4,
     "metadata": {},
     "output_type": "execute_result"
    }
   ],
   "source": [
    "recovery_data.head()"
   ]
  },
  {
   "cell_type": "code",
   "execution_count": 5,
   "id": "0efc16b4",
   "metadata": {},
   "outputs": [
    {
     "data": {
      "text/html": [
       "<div>\n",
       "<style scoped>\n",
       "    .dataframe tbody tr th:only-of-type {\n",
       "        vertical-align: middle;\n",
       "    }\n",
       "\n",
       "    .dataframe tbody tr th {\n",
       "        vertical-align: top;\n",
       "    }\n",
       "\n",
       "    .dataframe thead th {\n",
       "        text-align: right;\n",
       "    }\n",
       "</style>\n",
       "<table border=\"1\" class=\"dataframe\">\n",
       "  <thead>\n",
       "    <tr style=\"text-align: right;\">\n",
       "      <th></th>\n",
       "      <th>Province/State</th>\n",
       "      <th>Country/Region</th>\n",
       "      <th>Lat</th>\n",
       "      <th>Long</th>\n",
       "      <th>1/22/20</th>\n",
       "      <th>1/23/20</th>\n",
       "      <th>1/24/20</th>\n",
       "      <th>1/25/20</th>\n",
       "      <th>1/26/20</th>\n",
       "      <th>1/27/20</th>\n",
       "      <th>...</th>\n",
       "      <th>9/12/20</th>\n",
       "      <th>9/13/20</th>\n",
       "      <th>9/14/20</th>\n",
       "      <th>9/15/20</th>\n",
       "      <th>9/16/20</th>\n",
       "      <th>9/17/20</th>\n",
       "      <th>9/18/20</th>\n",
       "      <th>9/19/20</th>\n",
       "      <th>9/20/20</th>\n",
       "      <th>9/21/20</th>\n",
       "    </tr>\n",
       "  </thead>\n",
       "  <tbody>\n",
       "    <tr>\n",
       "      <th>0</th>\n",
       "      <td>NaN</td>\n",
       "      <td>Afghanistan</td>\n",
       "      <td>33.93911</td>\n",
       "      <td>67.709953</td>\n",
       "      <td>0</td>\n",
       "      <td>0</td>\n",
       "      <td>0</td>\n",
       "      <td>0</td>\n",
       "      <td>0</td>\n",
       "      <td>0</td>\n",
       "      <td>...</td>\n",
       "      <td>1420</td>\n",
       "      <td>1420</td>\n",
       "      <td>1425</td>\n",
       "      <td>1426</td>\n",
       "      <td>1436</td>\n",
       "      <td>1436</td>\n",
       "      <td>1437</td>\n",
       "      <td>1437</td>\n",
       "      <td>1441</td>\n",
       "      <td>1444</td>\n",
       "    </tr>\n",
       "    <tr>\n",
       "      <th>1</th>\n",
       "      <td>NaN</td>\n",
       "      <td>Albania</td>\n",
       "      <td>41.15330</td>\n",
       "      <td>20.168300</td>\n",
       "      <td>0</td>\n",
       "      <td>0</td>\n",
       "      <td>0</td>\n",
       "      <td>0</td>\n",
       "      <td>0</td>\n",
       "      <td>0</td>\n",
       "      <td>...</td>\n",
       "      <td>330</td>\n",
       "      <td>334</td>\n",
       "      <td>338</td>\n",
       "      <td>340</td>\n",
       "      <td>343</td>\n",
       "      <td>347</td>\n",
       "      <td>353</td>\n",
       "      <td>358</td>\n",
       "      <td>362</td>\n",
       "      <td>364</td>\n",
       "    </tr>\n",
       "    <tr>\n",
       "      <th>2</th>\n",
       "      <td>NaN</td>\n",
       "      <td>Algeria</td>\n",
       "      <td>28.03390</td>\n",
       "      <td>1.659600</td>\n",
       "      <td>0</td>\n",
       "      <td>0</td>\n",
       "      <td>0</td>\n",
       "      <td>0</td>\n",
       "      <td>0</td>\n",
       "      <td>0</td>\n",
       "      <td>...</td>\n",
       "      <td>1605</td>\n",
       "      <td>1612</td>\n",
       "      <td>1620</td>\n",
       "      <td>1632</td>\n",
       "      <td>1645</td>\n",
       "      <td>1654</td>\n",
       "      <td>1659</td>\n",
       "      <td>1665</td>\n",
       "      <td>1672</td>\n",
       "      <td>1679</td>\n",
       "    </tr>\n",
       "    <tr>\n",
       "      <th>3</th>\n",
       "      <td>NaN</td>\n",
       "      <td>Andorra</td>\n",
       "      <td>42.50630</td>\n",
       "      <td>1.521800</td>\n",
       "      <td>0</td>\n",
       "      <td>0</td>\n",
       "      <td>0</td>\n",
       "      <td>0</td>\n",
       "      <td>0</td>\n",
       "      <td>0</td>\n",
       "      <td>...</td>\n",
       "      <td>53</td>\n",
       "      <td>53</td>\n",
       "      <td>53</td>\n",
       "      <td>53</td>\n",
       "      <td>53</td>\n",
       "      <td>53</td>\n",
       "      <td>53</td>\n",
       "      <td>53</td>\n",
       "      <td>53</td>\n",
       "      <td>53</td>\n",
       "    </tr>\n",
       "    <tr>\n",
       "      <th>4</th>\n",
       "      <td>NaN</td>\n",
       "      <td>Angola</td>\n",
       "      <td>-11.20270</td>\n",
       "      <td>17.873900</td>\n",
       "      <td>0</td>\n",
       "      <td>0</td>\n",
       "      <td>0</td>\n",
       "      <td>0</td>\n",
       "      <td>0</td>\n",
       "      <td>0</td>\n",
       "      <td>...</td>\n",
       "      <td>132</td>\n",
       "      <td>134</td>\n",
       "      <td>136</td>\n",
       "      <td>139</td>\n",
       "      <td>143</td>\n",
       "      <td>144</td>\n",
       "      <td>147</td>\n",
       "      <td>147</td>\n",
       "      <td>152</td>\n",
       "      <td>154</td>\n",
       "    </tr>\n",
       "  </tbody>\n",
       "</table>\n",
       "<p>5 rows × 248 columns</p>\n",
       "</div>"
      ],
      "text/plain": [
       "  Province/State Country/Region       Lat       Long  1/22/20  1/23/20  \\\n",
       "0            NaN    Afghanistan  33.93911  67.709953        0        0   \n",
       "1            NaN        Albania  41.15330  20.168300        0        0   \n",
       "2            NaN        Algeria  28.03390   1.659600        0        0   \n",
       "3            NaN        Andorra  42.50630   1.521800        0        0   \n",
       "4            NaN         Angola -11.20270  17.873900        0        0   \n",
       "\n",
       "   1/24/20  1/25/20  1/26/20  1/27/20  ...  9/12/20  9/13/20  9/14/20  \\\n",
       "0        0        0        0        0  ...     1420     1420     1425   \n",
       "1        0        0        0        0  ...      330      334      338   \n",
       "2        0        0        0        0  ...     1605     1612     1620   \n",
       "3        0        0        0        0  ...       53       53       53   \n",
       "4        0        0        0        0  ...      132      134      136   \n",
       "\n",
       "   9/15/20  9/16/20  9/17/20  9/18/20  9/19/20  9/20/20  9/21/20  \n",
       "0     1426     1436     1436     1437     1437     1441     1444  \n",
       "1      340      343      347      353      358      362      364  \n",
       "2     1632     1645     1654     1659     1665     1672     1679  \n",
       "3       53       53       53       53       53       53       53  \n",
       "4      139      143      144      147      147      152      154  \n",
       "\n",
       "[5 rows x 248 columns]"
      ]
     },
     "execution_count": 5,
     "metadata": {},
     "output_type": "execute_result"
    }
   ],
   "source": [
    "death_data.head()"
   ]
  },
  {
   "cell_type": "markdown",
   "id": "61e15c51",
   "metadata": {},
   "source": [
    "# Combining the datasets"
   ]
  },
  {
   "cell_type": "code",
   "execution_count": 6,
   "id": "25a4dee1",
   "metadata": {},
   "outputs": [],
   "source": [
    "import pandas as pd\n",
    "\n",
    "def reshape_data(input_df):\n",
    "    # Melting the DataFrame\n",
    "    melted_df = pd.melt(input_df, id_vars=['Province/State', 'Country/Region', 'Lat', 'Long'], var_name='Date', value_name='Count')\n",
    "    melted_df['Date'] = pd.to_datetime(melted_df['Date'])\n",
    "    \n",
    "    # Sorting the DataFrame by date & Country\n",
    "    melted_df = melted_df.sort_values(by=['Country/Region', 'Date'])\n",
    "    return melted_df\n"
   ]
  },
  {
   "cell_type": "code",
   "execution_count": 7,
   "id": "2b49e9a3",
   "metadata": {},
   "outputs": [],
   "source": [
    "reshaped_confirmed = reshape_data(confirmed_data)\n",
    "reshaped_recovery = reshape_data(recovery_data)\n",
    "reshaped_death = reshape_data(death_data)"
   ]
  },
  {
   "cell_type": "code",
   "execution_count": 8,
   "id": "0f4a979f",
   "metadata": {},
   "outputs": [],
   "source": [
    "reshaped_confirmed['Status'] = 'Confirmed'\n",
    "reshaped_recovery['Status'] = 'Recovered'\n",
    "reshaped_death['Status'] = 'Death'"
   ]
  },
  {
   "cell_type": "code",
   "execution_count": 9,
   "id": "fc938ee2",
   "metadata": {},
   "outputs": [
    {
     "data": {
      "text/html": [
       "<div>\n",
       "<style scoped>\n",
       "    .dataframe tbody tr th:only-of-type {\n",
       "        vertical-align: middle;\n",
       "    }\n",
       "\n",
       "    .dataframe tbody tr th {\n",
       "        vertical-align: top;\n",
       "    }\n",
       "\n",
       "    .dataframe thead th {\n",
       "        text-align: right;\n",
       "    }\n",
       "</style>\n",
       "<table border=\"1\" class=\"dataframe\">\n",
       "  <thead>\n",
       "    <tr style=\"text-align: right;\">\n",
       "      <th></th>\n",
       "      <th>Province/State</th>\n",
       "      <th>Country/Region</th>\n",
       "      <th>Lat</th>\n",
       "      <th>Long</th>\n",
       "      <th>Date</th>\n",
       "      <th>Count</th>\n",
       "      <th>Status</th>\n",
       "    </tr>\n",
       "  </thead>\n",
       "  <tbody>\n",
       "    <tr>\n",
       "      <th>0</th>\n",
       "      <td>NaN</td>\n",
       "      <td>Afghanistan</td>\n",
       "      <td>33.93911</td>\n",
       "      <td>67.709953</td>\n",
       "      <td>2020-01-22</td>\n",
       "      <td>0</td>\n",
       "      <td>Confirmed</td>\n",
       "    </tr>\n",
       "    <tr>\n",
       "      <th>266</th>\n",
       "      <td>NaN</td>\n",
       "      <td>Afghanistan</td>\n",
       "      <td>33.93911</td>\n",
       "      <td>67.709953</td>\n",
       "      <td>2020-01-23</td>\n",
       "      <td>0</td>\n",
       "      <td>Confirmed</td>\n",
       "    </tr>\n",
       "    <tr>\n",
       "      <th>532</th>\n",
       "      <td>NaN</td>\n",
       "      <td>Afghanistan</td>\n",
       "      <td>33.93911</td>\n",
       "      <td>67.709953</td>\n",
       "      <td>2020-01-24</td>\n",
       "      <td>0</td>\n",
       "      <td>Confirmed</td>\n",
       "    </tr>\n",
       "    <tr>\n",
       "      <th>798</th>\n",
       "      <td>NaN</td>\n",
       "      <td>Afghanistan</td>\n",
       "      <td>33.93911</td>\n",
       "      <td>67.709953</td>\n",
       "      <td>2020-01-25</td>\n",
       "      <td>0</td>\n",
       "      <td>Confirmed</td>\n",
       "    </tr>\n",
       "    <tr>\n",
       "      <th>1064</th>\n",
       "      <td>NaN</td>\n",
       "      <td>Afghanistan</td>\n",
       "      <td>33.93911</td>\n",
       "      <td>67.709953</td>\n",
       "      <td>2020-01-26</td>\n",
       "      <td>0</td>\n",
       "      <td>Confirmed</td>\n",
       "    </tr>\n",
       "  </tbody>\n",
       "</table>\n",
       "</div>"
      ],
      "text/plain": [
       "     Province/State Country/Region       Lat       Long       Date  Count  \\\n",
       "0               NaN    Afghanistan  33.93911  67.709953 2020-01-22      0   \n",
       "266             NaN    Afghanistan  33.93911  67.709953 2020-01-23      0   \n",
       "532             NaN    Afghanistan  33.93911  67.709953 2020-01-24      0   \n",
       "798             NaN    Afghanistan  33.93911  67.709953 2020-01-25      0   \n",
       "1064            NaN    Afghanistan  33.93911  67.709953 2020-01-26      0   \n",
       "\n",
       "         Status  \n",
       "0     Confirmed  \n",
       "266   Confirmed  \n",
       "532   Confirmed  \n",
       "798   Confirmed  \n",
       "1064  Confirmed  "
      ]
     },
     "execution_count": 9,
     "metadata": {},
     "output_type": "execute_result"
    }
   ],
   "source": [
    "reshaped_confirmed.head()"
   ]
  },
  {
   "cell_type": "code",
   "execution_count": 10,
   "id": "87952066",
   "metadata": {},
   "outputs": [
    {
     "data": {
      "text/html": [
       "<div>\n",
       "<style scoped>\n",
       "    .dataframe tbody tr th:only-of-type {\n",
       "        vertical-align: middle;\n",
       "    }\n",
       "\n",
       "    .dataframe tbody tr th {\n",
       "        vertical-align: top;\n",
       "    }\n",
       "\n",
       "    .dataframe thead th {\n",
       "        text-align: right;\n",
       "    }\n",
       "</style>\n",
       "<table border=\"1\" class=\"dataframe\">\n",
       "  <thead>\n",
       "    <tr style=\"text-align: right;\">\n",
       "      <th></th>\n",
       "      <th>Province/State</th>\n",
       "      <th>Country/Region</th>\n",
       "      <th>Lat</th>\n",
       "      <th>Long</th>\n",
       "      <th>Date</th>\n",
       "      <th>Count</th>\n",
       "      <th>Status</th>\n",
       "    </tr>\n",
       "  </thead>\n",
       "  <tbody>\n",
       "    <tr>\n",
       "      <th>0</th>\n",
       "      <td>NaN</td>\n",
       "      <td>Afghanistan</td>\n",
       "      <td>33.93911</td>\n",
       "      <td>67.709953</td>\n",
       "      <td>2020-01-22</td>\n",
       "      <td>0</td>\n",
       "      <td>Recovered</td>\n",
       "    </tr>\n",
       "    <tr>\n",
       "      <th>253</th>\n",
       "      <td>NaN</td>\n",
       "      <td>Afghanistan</td>\n",
       "      <td>33.93911</td>\n",
       "      <td>67.709953</td>\n",
       "      <td>2020-01-23</td>\n",
       "      <td>0</td>\n",
       "      <td>Recovered</td>\n",
       "    </tr>\n",
       "    <tr>\n",
       "      <th>506</th>\n",
       "      <td>NaN</td>\n",
       "      <td>Afghanistan</td>\n",
       "      <td>33.93911</td>\n",
       "      <td>67.709953</td>\n",
       "      <td>2020-01-24</td>\n",
       "      <td>0</td>\n",
       "      <td>Recovered</td>\n",
       "    </tr>\n",
       "    <tr>\n",
       "      <th>759</th>\n",
       "      <td>NaN</td>\n",
       "      <td>Afghanistan</td>\n",
       "      <td>33.93911</td>\n",
       "      <td>67.709953</td>\n",
       "      <td>2020-01-25</td>\n",
       "      <td>0</td>\n",
       "      <td>Recovered</td>\n",
       "    </tr>\n",
       "    <tr>\n",
       "      <th>1012</th>\n",
       "      <td>NaN</td>\n",
       "      <td>Afghanistan</td>\n",
       "      <td>33.93911</td>\n",
       "      <td>67.709953</td>\n",
       "      <td>2020-01-26</td>\n",
       "      <td>0</td>\n",
       "      <td>Recovered</td>\n",
       "    </tr>\n",
       "  </tbody>\n",
       "</table>\n",
       "</div>"
      ],
      "text/plain": [
       "     Province/State Country/Region       Lat       Long       Date  Count  \\\n",
       "0               NaN    Afghanistan  33.93911  67.709953 2020-01-22      0   \n",
       "253             NaN    Afghanistan  33.93911  67.709953 2020-01-23      0   \n",
       "506             NaN    Afghanistan  33.93911  67.709953 2020-01-24      0   \n",
       "759             NaN    Afghanistan  33.93911  67.709953 2020-01-25      0   \n",
       "1012            NaN    Afghanistan  33.93911  67.709953 2020-01-26      0   \n",
       "\n",
       "         Status  \n",
       "0     Recovered  \n",
       "253   Recovered  \n",
       "506   Recovered  \n",
       "759   Recovered  \n",
       "1012  Recovered  "
      ]
     },
     "execution_count": 10,
     "metadata": {},
     "output_type": "execute_result"
    }
   ],
   "source": [
    "reshaped_recovery.head()"
   ]
  },
  {
   "cell_type": "code",
   "execution_count": 11,
   "id": "b55704e1",
   "metadata": {},
   "outputs": [
    {
     "data": {
      "text/html": [
       "<div>\n",
       "<style scoped>\n",
       "    .dataframe tbody tr th:only-of-type {\n",
       "        vertical-align: middle;\n",
       "    }\n",
       "\n",
       "    .dataframe tbody tr th {\n",
       "        vertical-align: top;\n",
       "    }\n",
       "\n",
       "    .dataframe thead th {\n",
       "        text-align: right;\n",
       "    }\n",
       "</style>\n",
       "<table border=\"1\" class=\"dataframe\">\n",
       "  <thead>\n",
       "    <tr style=\"text-align: right;\">\n",
       "      <th></th>\n",
       "      <th>Province/State</th>\n",
       "      <th>Country/Region</th>\n",
       "      <th>Lat</th>\n",
       "      <th>Long</th>\n",
       "      <th>Date</th>\n",
       "      <th>Count</th>\n",
       "      <th>Status</th>\n",
       "    </tr>\n",
       "  </thead>\n",
       "  <tbody>\n",
       "    <tr>\n",
       "      <th>0</th>\n",
       "      <td>NaN</td>\n",
       "      <td>Afghanistan</td>\n",
       "      <td>33.93911</td>\n",
       "      <td>67.709953</td>\n",
       "      <td>2020-01-22</td>\n",
       "      <td>0</td>\n",
       "      <td>Death</td>\n",
       "    </tr>\n",
       "    <tr>\n",
       "      <th>266</th>\n",
       "      <td>NaN</td>\n",
       "      <td>Afghanistan</td>\n",
       "      <td>33.93911</td>\n",
       "      <td>67.709953</td>\n",
       "      <td>2020-01-23</td>\n",
       "      <td>0</td>\n",
       "      <td>Death</td>\n",
       "    </tr>\n",
       "    <tr>\n",
       "      <th>532</th>\n",
       "      <td>NaN</td>\n",
       "      <td>Afghanistan</td>\n",
       "      <td>33.93911</td>\n",
       "      <td>67.709953</td>\n",
       "      <td>2020-01-24</td>\n",
       "      <td>0</td>\n",
       "      <td>Death</td>\n",
       "    </tr>\n",
       "    <tr>\n",
       "      <th>798</th>\n",
       "      <td>NaN</td>\n",
       "      <td>Afghanistan</td>\n",
       "      <td>33.93911</td>\n",
       "      <td>67.709953</td>\n",
       "      <td>2020-01-25</td>\n",
       "      <td>0</td>\n",
       "      <td>Death</td>\n",
       "    </tr>\n",
       "    <tr>\n",
       "      <th>1064</th>\n",
       "      <td>NaN</td>\n",
       "      <td>Afghanistan</td>\n",
       "      <td>33.93911</td>\n",
       "      <td>67.709953</td>\n",
       "      <td>2020-01-26</td>\n",
       "      <td>0</td>\n",
       "      <td>Death</td>\n",
       "    </tr>\n",
       "  </tbody>\n",
       "</table>\n",
       "</div>"
      ],
      "text/plain": [
       "     Province/State Country/Region       Lat       Long       Date  Count  \\\n",
       "0               NaN    Afghanistan  33.93911  67.709953 2020-01-22      0   \n",
       "266             NaN    Afghanistan  33.93911  67.709953 2020-01-23      0   \n",
       "532             NaN    Afghanistan  33.93911  67.709953 2020-01-24      0   \n",
       "798             NaN    Afghanistan  33.93911  67.709953 2020-01-25      0   \n",
       "1064            NaN    Afghanistan  33.93911  67.709953 2020-01-26      0   \n",
       "\n",
       "     Status  \n",
       "0     Death  \n",
       "266   Death  \n",
       "532   Death  \n",
       "798   Death  \n",
       "1064  Death  "
      ]
     },
     "execution_count": 11,
     "metadata": {},
     "output_type": "execute_result"
    }
   ],
   "source": [
    "reshaped_death.head()"
   ]
  },
  {
   "cell_type": "code",
   "execution_count": 12,
   "id": "ed813407",
   "metadata": {},
   "outputs": [],
   "source": [
    "Covid_data = pd.concat([reshaped_confirmed, reshaped_recovery, reshaped_death], ignore_index=True)"
   ]
  },
  {
   "cell_type": "code",
   "execution_count": 13,
   "id": "1ab9a838",
   "metadata": {
    "scrolled": true
   },
   "outputs": [
    {
     "data": {
      "text/html": [
       "<div>\n",
       "<style scoped>\n",
       "    .dataframe tbody tr th:only-of-type {\n",
       "        vertical-align: middle;\n",
       "    }\n",
       "\n",
       "    .dataframe tbody tr th {\n",
       "        vertical-align: top;\n",
       "    }\n",
       "\n",
       "    .dataframe thead th {\n",
       "        text-align: right;\n",
       "    }\n",
       "</style>\n",
       "<table border=\"1\" class=\"dataframe\">\n",
       "  <thead>\n",
       "    <tr style=\"text-align: right;\">\n",
       "      <th></th>\n",
       "      <th>Province/State</th>\n",
       "      <th>Country/Region</th>\n",
       "      <th>Lat</th>\n",
       "      <th>Long</th>\n",
       "      <th>Date</th>\n",
       "      <th>Count</th>\n",
       "      <th>Status</th>\n",
       "    </tr>\n",
       "  </thead>\n",
       "  <tbody>\n",
       "    <tr>\n",
       "      <th>0</th>\n",
       "      <td>NaN</td>\n",
       "      <td>Afghanistan</td>\n",
       "      <td>33.939110</td>\n",
       "      <td>67.709953</td>\n",
       "      <td>2020-01-22</td>\n",
       "      <td>0</td>\n",
       "      <td>Confirmed</td>\n",
       "    </tr>\n",
       "    <tr>\n",
       "      <th>1</th>\n",
       "      <td>NaN</td>\n",
       "      <td>Afghanistan</td>\n",
       "      <td>33.939110</td>\n",
       "      <td>67.709953</td>\n",
       "      <td>2020-01-23</td>\n",
       "      <td>0</td>\n",
       "      <td>Confirmed</td>\n",
       "    </tr>\n",
       "    <tr>\n",
       "      <th>2</th>\n",
       "      <td>NaN</td>\n",
       "      <td>Afghanistan</td>\n",
       "      <td>33.939110</td>\n",
       "      <td>67.709953</td>\n",
       "      <td>2020-01-24</td>\n",
       "      <td>0</td>\n",
       "      <td>Confirmed</td>\n",
       "    </tr>\n",
       "    <tr>\n",
       "      <th>3</th>\n",
       "      <td>NaN</td>\n",
       "      <td>Afghanistan</td>\n",
       "      <td>33.939110</td>\n",
       "      <td>67.709953</td>\n",
       "      <td>2020-01-25</td>\n",
       "      <td>0</td>\n",
       "      <td>Confirmed</td>\n",
       "    </tr>\n",
       "    <tr>\n",
       "      <th>4</th>\n",
       "      <td>NaN</td>\n",
       "      <td>Afghanistan</td>\n",
       "      <td>33.939110</td>\n",
       "      <td>67.709953</td>\n",
       "      <td>2020-01-26</td>\n",
       "      <td>0</td>\n",
       "      <td>Confirmed</td>\n",
       "    </tr>\n",
       "    <tr>\n",
       "      <th>...</th>\n",
       "      <td>...</td>\n",
       "      <td>...</td>\n",
       "      <td>...</td>\n",
       "      <td>...</td>\n",
       "      <td>...</td>\n",
       "      <td>...</td>\n",
       "      <td>...</td>\n",
       "    </tr>\n",
       "    <tr>\n",
       "      <th>191535</th>\n",
       "      <td>NaN</td>\n",
       "      <td>Zimbabwe</td>\n",
       "      <td>-19.015438</td>\n",
       "      <td>29.154857</td>\n",
       "      <td>2020-09-17</td>\n",
       "      <td>224</td>\n",
       "      <td>Death</td>\n",
       "    </tr>\n",
       "    <tr>\n",
       "      <th>191536</th>\n",
       "      <td>NaN</td>\n",
       "      <td>Zimbabwe</td>\n",
       "      <td>-19.015438</td>\n",
       "      <td>29.154857</td>\n",
       "      <td>2020-09-18</td>\n",
       "      <td>224</td>\n",
       "      <td>Death</td>\n",
       "    </tr>\n",
       "    <tr>\n",
       "      <th>191537</th>\n",
       "      <td>NaN</td>\n",
       "      <td>Zimbabwe</td>\n",
       "      <td>-19.015438</td>\n",
       "      <td>29.154857</td>\n",
       "      <td>2020-09-19</td>\n",
       "      <td>225</td>\n",
       "      <td>Death</td>\n",
       "    </tr>\n",
       "    <tr>\n",
       "      <th>191538</th>\n",
       "      <td>NaN</td>\n",
       "      <td>Zimbabwe</td>\n",
       "      <td>-19.015438</td>\n",
       "      <td>29.154857</td>\n",
       "      <td>2020-09-20</td>\n",
       "      <td>225</td>\n",
       "      <td>Death</td>\n",
       "    </tr>\n",
       "    <tr>\n",
       "      <th>191539</th>\n",
       "      <td>NaN</td>\n",
       "      <td>Zimbabwe</td>\n",
       "      <td>-19.015438</td>\n",
       "      <td>29.154857</td>\n",
       "      <td>2020-09-21</td>\n",
       "      <td>225</td>\n",
       "      <td>Death</td>\n",
       "    </tr>\n",
       "  </tbody>\n",
       "</table>\n",
       "<p>191540 rows × 7 columns</p>\n",
       "</div>"
      ],
      "text/plain": [
       "       Province/State Country/Region        Lat       Long       Date  Count  \\\n",
       "0                 NaN    Afghanistan  33.939110  67.709953 2020-01-22      0   \n",
       "1                 NaN    Afghanistan  33.939110  67.709953 2020-01-23      0   \n",
       "2                 NaN    Afghanistan  33.939110  67.709953 2020-01-24      0   \n",
       "3                 NaN    Afghanistan  33.939110  67.709953 2020-01-25      0   \n",
       "4                 NaN    Afghanistan  33.939110  67.709953 2020-01-26      0   \n",
       "...               ...            ...        ...        ...        ...    ...   \n",
       "191535            NaN       Zimbabwe -19.015438  29.154857 2020-09-17    224   \n",
       "191536            NaN       Zimbabwe -19.015438  29.154857 2020-09-18    224   \n",
       "191537            NaN       Zimbabwe -19.015438  29.154857 2020-09-19    225   \n",
       "191538            NaN       Zimbabwe -19.015438  29.154857 2020-09-20    225   \n",
       "191539            NaN       Zimbabwe -19.015438  29.154857 2020-09-21    225   \n",
       "\n",
       "           Status  \n",
       "0       Confirmed  \n",
       "1       Confirmed  \n",
       "2       Confirmed  \n",
       "3       Confirmed  \n",
       "4       Confirmed  \n",
       "...           ...  \n",
       "191535      Death  \n",
       "191536      Death  \n",
       "191537      Death  \n",
       "191538      Death  \n",
       "191539      Death  \n",
       "\n",
       "[191540 rows x 7 columns]"
      ]
     },
     "execution_count": 13,
     "metadata": {},
     "output_type": "execute_result"
    }
   ],
   "source": [
    "Covid_data"
   ]
  },
  {
   "cell_type": "code",
   "execution_count": 14,
   "id": "724c617c",
   "metadata": {},
   "outputs": [],
   "source": [
    "# Renaming the Country/Region column as Country\n",
    "Covid_data = Covid_data.rename(columns={'Country/Region': 'Country'})"
   ]
  },
  {
   "cell_type": "code",
   "execution_count": 15,
   "id": "581e5994",
   "metadata": {},
   "outputs": [],
   "source": [
    "# Droping the Province/State column\n",
    "Covid_data = Covid_data.drop(columns=['Province/State'])"
   ]
  },
  {
   "cell_type": "code",
   "execution_count": 16,
   "id": "fa2aea15",
   "metadata": {},
   "outputs": [
    {
     "data": {
      "text/html": [
       "<div>\n",
       "<style scoped>\n",
       "    .dataframe tbody tr th:only-of-type {\n",
       "        vertical-align: middle;\n",
       "    }\n",
       "\n",
       "    .dataframe tbody tr th {\n",
       "        vertical-align: top;\n",
       "    }\n",
       "\n",
       "    .dataframe thead th {\n",
       "        text-align: right;\n",
       "    }\n",
       "</style>\n",
       "<table border=\"1\" class=\"dataframe\">\n",
       "  <thead>\n",
       "    <tr style=\"text-align: right;\">\n",
       "      <th></th>\n",
       "      <th>Country</th>\n",
       "      <th>Lat</th>\n",
       "      <th>Long</th>\n",
       "      <th>Date</th>\n",
       "      <th>Count</th>\n",
       "      <th>Status</th>\n",
       "    </tr>\n",
       "  </thead>\n",
       "  <tbody>\n",
       "    <tr>\n",
       "      <th>0</th>\n",
       "      <td>Afghanistan</td>\n",
       "      <td>33.939110</td>\n",
       "      <td>67.709953</td>\n",
       "      <td>2020-01-22</td>\n",
       "      <td>0</td>\n",
       "      <td>Confirmed</td>\n",
       "    </tr>\n",
       "    <tr>\n",
       "      <th>1</th>\n",
       "      <td>Afghanistan</td>\n",
       "      <td>33.939110</td>\n",
       "      <td>67.709953</td>\n",
       "      <td>2020-01-23</td>\n",
       "      <td>0</td>\n",
       "      <td>Confirmed</td>\n",
       "    </tr>\n",
       "    <tr>\n",
       "      <th>2</th>\n",
       "      <td>Afghanistan</td>\n",
       "      <td>33.939110</td>\n",
       "      <td>67.709953</td>\n",
       "      <td>2020-01-24</td>\n",
       "      <td>0</td>\n",
       "      <td>Confirmed</td>\n",
       "    </tr>\n",
       "    <tr>\n",
       "      <th>3</th>\n",
       "      <td>Afghanistan</td>\n",
       "      <td>33.939110</td>\n",
       "      <td>67.709953</td>\n",
       "      <td>2020-01-25</td>\n",
       "      <td>0</td>\n",
       "      <td>Confirmed</td>\n",
       "    </tr>\n",
       "    <tr>\n",
       "      <th>4</th>\n",
       "      <td>Afghanistan</td>\n",
       "      <td>33.939110</td>\n",
       "      <td>67.709953</td>\n",
       "      <td>2020-01-26</td>\n",
       "      <td>0</td>\n",
       "      <td>Confirmed</td>\n",
       "    </tr>\n",
       "    <tr>\n",
       "      <th>...</th>\n",
       "      <td>...</td>\n",
       "      <td>...</td>\n",
       "      <td>...</td>\n",
       "      <td>...</td>\n",
       "      <td>...</td>\n",
       "      <td>...</td>\n",
       "    </tr>\n",
       "    <tr>\n",
       "      <th>191535</th>\n",
       "      <td>Zimbabwe</td>\n",
       "      <td>-19.015438</td>\n",
       "      <td>29.154857</td>\n",
       "      <td>2020-09-17</td>\n",
       "      <td>224</td>\n",
       "      <td>Death</td>\n",
       "    </tr>\n",
       "    <tr>\n",
       "      <th>191536</th>\n",
       "      <td>Zimbabwe</td>\n",
       "      <td>-19.015438</td>\n",
       "      <td>29.154857</td>\n",
       "      <td>2020-09-18</td>\n",
       "      <td>224</td>\n",
       "      <td>Death</td>\n",
       "    </tr>\n",
       "    <tr>\n",
       "      <th>191537</th>\n",
       "      <td>Zimbabwe</td>\n",
       "      <td>-19.015438</td>\n",
       "      <td>29.154857</td>\n",
       "      <td>2020-09-19</td>\n",
       "      <td>225</td>\n",
       "      <td>Death</td>\n",
       "    </tr>\n",
       "    <tr>\n",
       "      <th>191538</th>\n",
       "      <td>Zimbabwe</td>\n",
       "      <td>-19.015438</td>\n",
       "      <td>29.154857</td>\n",
       "      <td>2020-09-20</td>\n",
       "      <td>225</td>\n",
       "      <td>Death</td>\n",
       "    </tr>\n",
       "    <tr>\n",
       "      <th>191539</th>\n",
       "      <td>Zimbabwe</td>\n",
       "      <td>-19.015438</td>\n",
       "      <td>29.154857</td>\n",
       "      <td>2020-09-21</td>\n",
       "      <td>225</td>\n",
       "      <td>Death</td>\n",
       "    </tr>\n",
       "  </tbody>\n",
       "</table>\n",
       "<p>191540 rows × 6 columns</p>\n",
       "</div>"
      ],
      "text/plain": [
       "            Country        Lat       Long       Date  Count     Status\n",
       "0       Afghanistan  33.939110  67.709953 2020-01-22      0  Confirmed\n",
       "1       Afghanistan  33.939110  67.709953 2020-01-23      0  Confirmed\n",
       "2       Afghanistan  33.939110  67.709953 2020-01-24      0  Confirmed\n",
       "3       Afghanistan  33.939110  67.709953 2020-01-25      0  Confirmed\n",
       "4       Afghanistan  33.939110  67.709953 2020-01-26      0  Confirmed\n",
       "...             ...        ...        ...        ...    ...        ...\n",
       "191535     Zimbabwe -19.015438  29.154857 2020-09-17    224      Death\n",
       "191536     Zimbabwe -19.015438  29.154857 2020-09-18    224      Death\n",
       "191537     Zimbabwe -19.015438  29.154857 2020-09-19    225      Death\n",
       "191538     Zimbabwe -19.015438  29.154857 2020-09-20    225      Death\n",
       "191539     Zimbabwe -19.015438  29.154857 2020-09-21    225      Death\n",
       "\n",
       "[191540 rows x 6 columns]"
      ]
     },
     "execution_count": 16,
     "metadata": {},
     "output_type": "execute_result"
    }
   ],
   "source": [
    "Covid_data"
   ]
  },
  {
   "cell_type": "code",
   "execution_count": 17,
   "id": "ba911f10",
   "metadata": {},
   "outputs": [
    {
     "name": "stdout",
     "output_type": "stream",
     "text": [
      "<class 'pandas.core.frame.DataFrame'>\n",
      "RangeIndex: 191540 entries, 0 to 191539\n",
      "Data columns (total 6 columns):\n",
      " #   Column   Non-Null Count   Dtype         \n",
      "---  ------   --------------   -----         \n",
      " 0   Country  191540 non-null  object        \n",
      " 1   Lat      191540 non-null  float64       \n",
      " 2   Long     191540 non-null  float64       \n",
      " 3   Date     191540 non-null  datetime64[ns]\n",
      " 4   Count    191540 non-null  int64         \n",
      " 5   Status   191540 non-null  object        \n",
      "dtypes: datetime64[ns](1), float64(2), int64(1), object(2)\n",
      "memory usage: 8.8+ MB\n"
     ]
    }
   ],
   "source": [
    "Covid_data.info()"
   ]
  },
  {
   "cell_type": "markdown",
   "id": "42becfbf",
   "metadata": {},
   "source": [
    "# Data Description"
   ]
  },
  {
   "cell_type": "markdown",
   "id": "d083ba90",
   "metadata": {},
   "source": [
    "### For continuous values"
   ]
  },
  {
   "cell_type": "code",
   "execution_count": 18,
   "id": "aa42682c",
   "metadata": {
    "scrolled": true
   },
   "outputs": [
    {
     "data": {
      "text/html": [
       "<div>\n",
       "<style scoped>\n",
       "    .dataframe tbody tr th:only-of-type {\n",
       "        vertical-align: middle;\n",
       "    }\n",
       "\n",
       "    .dataframe tbody tr th {\n",
       "        vertical-align: top;\n",
       "    }\n",
       "\n",
       "    .dataframe thead th {\n",
       "        text-align: right;\n",
       "    }\n",
       "</style>\n",
       "<table border=\"1\" class=\"dataframe\">\n",
       "  <thead>\n",
       "    <tr style=\"text-align: right;\">\n",
       "      <th></th>\n",
       "      <th>Lat</th>\n",
       "      <th>Long</th>\n",
       "      <th>Count</th>\n",
       "    </tr>\n",
       "  </thead>\n",
       "  <tbody>\n",
       "    <tr>\n",
       "      <th>count</th>\n",
       "      <td>191540.00</td>\n",
       "      <td>191540.00</td>\n",
       "      <td>191540.00</td>\n",
       "    </tr>\n",
       "    <tr>\n",
       "      <th>mean</th>\n",
       "      <td>20.68</td>\n",
       "      <td>24.49</td>\n",
       "      <td>18363.90</td>\n",
       "    </tr>\n",
       "    <tr>\n",
       "      <th>std</th>\n",
       "      <td>24.74</td>\n",
       "      <td>69.20</td>\n",
       "      <td>173092.27</td>\n",
       "    </tr>\n",
       "    <tr>\n",
       "      <th>min</th>\n",
       "      <td>-51.80</td>\n",
       "      <td>-135.00</td>\n",
       "      <td>0.00</td>\n",
       "    </tr>\n",
       "    <tr>\n",
       "      <th>25%</th>\n",
       "      <td>6.61</td>\n",
       "      <td>-12.89</td>\n",
       "      <td>1.00</td>\n",
       "    </tr>\n",
       "    <tr>\n",
       "      <th>50%</th>\n",
       "      <td>22.17</td>\n",
       "      <td>21.75</td>\n",
       "      <td>58.00</td>\n",
       "    </tr>\n",
       "    <tr>\n",
       "      <th>75%</th>\n",
       "      <td>40.18</td>\n",
       "      <td>80.77</td>\n",
       "      <td>1049.00</td>\n",
       "    </tr>\n",
       "    <tr>\n",
       "      <th>max</th>\n",
       "      <td>71.71</td>\n",
       "      <td>178.06</td>\n",
       "      <td>6856884.00</td>\n",
       "    </tr>\n",
       "  </tbody>\n",
       "</table>\n",
       "</div>"
      ],
      "text/plain": [
       "            Lat      Long      Count\n",
       "count 191540.00 191540.00  191540.00\n",
       "mean      20.68     24.49   18363.90\n",
       "std       24.74     69.20  173092.27\n",
       "min      -51.80   -135.00       0.00\n",
       "25%        6.61    -12.89       1.00\n",
       "50%       22.17     21.75      58.00\n",
       "75%       40.18     80.77    1049.00\n",
       "max       71.71    178.06 6856884.00"
      ]
     },
     "execution_count": 18,
     "metadata": {},
     "output_type": "execute_result"
    }
   ],
   "source": [
    "pd.options.display.float_format = '{:.2f}'.format\n",
    "Covid_data.describe()"
   ]
  },
  {
   "cell_type": "markdown",
   "id": "cd875e3d",
   "metadata": {},
   "source": [
    "### For categorical values"
   ]
  },
  {
   "cell_type": "code",
   "execution_count": 19,
   "id": "b70baae2",
   "metadata": {},
   "outputs": [
    {
     "data": {
      "text/html": [
       "<div>\n",
       "<style scoped>\n",
       "    .dataframe tbody tr th:only-of-type {\n",
       "        vertical-align: middle;\n",
       "    }\n",
       "\n",
       "    .dataframe tbody tr th {\n",
       "        vertical-align: top;\n",
       "    }\n",
       "\n",
       "    .dataframe thead th {\n",
       "        text-align: right;\n",
       "    }\n",
       "</style>\n",
       "<table border=\"1\" class=\"dataframe\">\n",
       "  <thead>\n",
       "    <tr style=\"text-align: right;\">\n",
       "      <th></th>\n",
       "      <th>Country</th>\n",
       "      <th>Status</th>\n",
       "    </tr>\n",
       "  </thead>\n",
       "  <tbody>\n",
       "    <tr>\n",
       "      <th>count</th>\n",
       "      <td>191540</td>\n",
       "      <td>191540</td>\n",
       "    </tr>\n",
       "    <tr>\n",
       "      <th>unique</th>\n",
       "      <td>188</td>\n",
       "      <td>3</td>\n",
       "    </tr>\n",
       "    <tr>\n",
       "      <th>top</th>\n",
       "      <td>China</td>\n",
       "      <td>Confirmed</td>\n",
       "    </tr>\n",
       "    <tr>\n",
       "      <th>freq</th>\n",
       "      <td>24156</td>\n",
       "      <td>64904</td>\n",
       "    </tr>\n",
       "  </tbody>\n",
       "</table>\n",
       "</div>"
      ],
      "text/plain": [
       "       Country     Status\n",
       "count   191540     191540\n",
       "unique     188          3\n",
       "top      China  Confirmed\n",
       "freq     24156      64904"
      ]
     },
     "execution_count": 19,
     "metadata": {},
     "output_type": "execute_result"
    }
   ],
   "source": [
    "Covid_data.describe(include='object')"
   ]
  },
  {
   "cell_type": "markdown",
   "id": "bc76dcc8",
   "metadata": {},
   "source": [
    "### Insights from Description\n",
    "\n",
    "* The mean latitude is around 20.68, indicating that the data is spread across both northern and southern hemispheres.\n",
    "* The minimum latitude is -51.80, and the maximum latitude is 71.71, showing a wide range of latitudinal values.\n",
    "* The mean longitude is approximately 24.49, suggesting that the data spans locations both east and west.\n",
    "* The minimum longitude is -135.00, and the maximum longitude is 178.06, indicating a broad geographical coverage.\n",
    "* The count statistics show that there are 191,540 records in the dataset.\n",
    "* The minimum count is 0.00, indicating the presence of entries with no reported counts.\n",
    "* The maximum count is 6,856,884, suggesting a wide range of values with some potentially large counts.\n",
    "* There are cases from 188 countries out of 195 countries indicating the dominance of the Covid19 disease.\n",
    "* The most frequently occurring country is \"China\" with a frequency of 24,156, suggesting a significant presence of data from China."
   ]
  },
  {
   "cell_type": "code",
   "execution_count": 20,
   "id": "9d412335",
   "metadata": {},
   "outputs": [
    {
     "data": {
      "text/plain": [
       "Confirmed    64904\n",
       "Death        64904\n",
       "Recovered    61732\n",
       "Name: Status, dtype: int64"
      ]
     },
     "execution_count": 20,
     "metadata": {},
     "output_type": "execute_result"
    }
   ],
   "source": [
    "Covid_data['Status'].value_counts()"
   ]
  },
  {
   "cell_type": "code",
   "execution_count": 21,
   "id": "369a30d2",
   "metadata": {},
   "outputs": [
    {
     "data": {
      "text/plain": [
       "China             24156\n",
       "United Kingdom     8052\n",
       "France             8052\n",
       "Canada             7076\n",
       "Australia          5856\n",
       "                  ...  \n",
       "Greece              732\n",
       "Grenada             732\n",
       "Guatemala           732\n",
       "Guinea              732\n",
       "Zimbabwe            732\n",
       "Name: Country, Length: 188, dtype: int64"
      ]
     },
     "execution_count": 21,
     "metadata": {},
     "output_type": "execute_result"
    }
   ],
   "source": [
    "Covid_data['Country'].value_counts()"
   ]
  },
  {
   "cell_type": "code",
   "execution_count": 22,
   "id": "baa776d0",
   "metadata": {},
   "outputs": [
    {
     "data": {
      "text/plain": [
       "2020-01-22    785\n",
       "2020-06-23    785\n",
       "2020-06-25    785\n",
       "2020-06-26    785\n",
       "2020-06-27    785\n",
       "             ... \n",
       "2020-04-16    785\n",
       "2020-04-17    785\n",
       "2020-04-18    785\n",
       "2020-04-19    785\n",
       "2020-09-21    785\n",
       "Name: Date, Length: 244, dtype: int64"
      ]
     },
     "execution_count": 22,
     "metadata": {},
     "output_type": "execute_result"
    }
   ],
   "source": [
    "Covid_data['Date'].value_counts()"
   ]
  },
  {
   "cell_type": "markdown",
   "id": "7bed3b71",
   "metadata": {},
   "source": [
    "* All dates have occurred same times in this dataset."
   ]
  },
  {
   "cell_type": "markdown",
   "id": "33e4e38b",
   "metadata": {},
   "source": [
    "# Maximum Confirmed / Recovered / Death Cases"
   ]
  },
  {
   "cell_type": "code",
   "execution_count": 23,
   "id": "6cb070fc",
   "metadata": {},
   "outputs": [
    {
     "name": "stdout",
     "output_type": "stream",
     "text": [
      "Country                     US\n",
      "Lat                      40.00\n",
      "Long                   -100.00\n",
      "Date       2020-09-21 00:00:00\n",
      "Count                  6856884\n",
      "Status               Confirmed\n",
      "Name: 59291, dtype: object\n"
     ]
    }
   ],
   "source": [
    "# To find maximum confirmed cases\n",
    "max_confirmed_row = Covid_data[Covid_data['Status'] == 'Confirmed']['Count'].idxmax()\n",
    "result = Covid_data.loc[max_confirmed_row]\n",
    "print(result)"
   ]
  },
  {
   "cell_type": "markdown",
   "id": "dd332640",
   "metadata": {},
   "source": [
    "* It indicates that the US has highest number of confirmed cases reported on 21st September 2020."
   ]
  },
  {
   "cell_type": "code",
   "execution_count": 24,
   "id": "7f7eb2e0",
   "metadata": {},
   "outputs": [
    {
     "name": "stdout",
     "output_type": "stream",
     "text": [
      "Country                  India\n",
      "Lat                      20.59\n",
      "Long                     78.96\n",
      "Date       2020-09-20 00:00:00\n",
      "Count                  4396399\n",
      "Status               Recovered\n",
      "Name: 96866, dtype: object\n"
     ]
    }
   ],
   "source": [
    "# To find maximum recovered cases\n",
    "max_recovered_row = Covid_data[Covid_data['Status'] == 'Recovered']['Count'].idxmax()\n",
    "result = Covid_data.loc[max_recovered_row]\n",
    "print(result)\n"
   ]
  },
  {
   "cell_type": "markdown",
   "id": "0d0ed5ac",
   "metadata": {},
   "source": [
    "* It indicates that the India has highest number of recovered cases reported on 20th September 2020."
   ]
  },
  {
   "cell_type": "code",
   "execution_count": 25,
   "id": "7ec7e7b6",
   "metadata": {},
   "outputs": [
    {
     "name": "stdout",
     "output_type": "stream",
     "text": [
      "Country                     US\n",
      "Lat                      40.00\n",
      "Long                   -100.00\n",
      "Date       2020-09-21 00:00:00\n",
      "Count                   199865\n",
      "Status                   Death\n",
      "Name: 185927, dtype: object\n"
     ]
    }
   ],
   "source": [
    "# To find maximum death cases\n",
    "max_death_row = Covid_data[Covid_data['Status'] == 'Death']['Count'].idxmax()\n",
    "result = Covid_data.loc[max_death_row]\n",
    "print(result)"
   ]
  },
  {
   "cell_type": "markdown",
   "id": "fcf99f15",
   "metadata": {},
   "source": [
    "* It indicates that the US has highest number of death cases reported on 21st September 2020."
   ]
  },
  {
   "cell_type": "code",
   "execution_count": 26,
   "id": "e51e03bc",
   "metadata": {},
   "outputs": [
    {
     "data": {
      "text/plain": [
       "Country    0\n",
       "Lat        0\n",
       "Long       0\n",
       "Date       0\n",
       "Count      0\n",
       "Status     0\n",
       "dtype: int64"
      ]
     },
     "execution_count": 26,
     "metadata": {},
     "output_type": "execute_result"
    }
   ],
   "source": [
    "Covid_data.isnull().sum()"
   ]
  },
  {
   "cell_type": "markdown",
   "id": "8ea17502",
   "metadata": {},
   "source": [
    "* There are no null values in our dataset."
   ]
  },
  {
   "cell_type": "markdown",
   "id": "5b7beb18",
   "metadata": {},
   "source": [
    "# Distribution of Country and Status"
   ]
  },
  {
   "cell_type": "code",
   "execution_count": 27,
   "id": "cd298fad",
   "metadata": {},
   "outputs": [
    {
     "data": {
      "application/vnd.jupyter.widget-view+json": {
       "model_id": "8029eae916694c7b999fa935a99ccc2a",
       "version_major": 2,
       "version_minor": 0
      },
      "text/plain": [
       "interactive(children=(Dropdown(description='column_name', options=('Country', 'Status'), value='Country'), Out…"
      ]
     },
     "metadata": {},
     "output_type": "display_data"
    },
    {
     "data": {
      "text/plain": [
       "<function __main__.plot_pie(column_name)>"
      ]
     },
     "execution_count": 27,
     "metadata": {},
     "output_type": "execute_result"
    }
   ],
   "source": [
    "def plot_pie(column_name):\n",
    "    plt.figure(figsize=(8, 8), facecolor='white')\n",
    "    category_counts = Covid_data[column_name].value_counts()\n",
    "    \n",
    "    if len(category_counts) <= 10:\n",
    "        plt.pie(category_counts, labels=category_counts.index, autopct='%.2f%%', startangle=90, textprops={'fontsize': 10})\n",
    "    else:\n",
    "        top_categories = category_counts.nlargest(6) \n",
    "        other_count = category_counts.shape[0] - top_categories.shape[0]\n",
    "        combined_categories = top_categories.append(pd.Series({'Others': other_count}))        \n",
    "        plt.pie(combined_categories, labels=combined_categories.index, autopct='%.2f%%', startangle=90, textprops={'fontsize': 8})\n",
    "    \n",
    "    plt.title(f'Distribution of {column_name}', fontsize=15)\n",
    "    plt.show()\n",
    "\n",
    "columns_for_pie = ['Country', 'Status']\n",
    "interact(plot_pie, column_name=columns_for_pie)"
   ]
  },
  {
   "cell_type": "markdown",
   "id": "a34a0fa3",
   "metadata": {},
   "source": [
    "# Top 10 countries in each category."
   ]
  },
  {
   "cell_type": "code",
   "execution_count": 28,
   "id": "faccf215",
   "metadata": {},
   "outputs": [
    {
     "data": {
      "application/vnd.jupyter.widget-view+json": {
       "model_id": "7582045a68454d56993fe373efec2bb7",
       "version_major": 2,
       "version_minor": 0
      },
      "text/plain": [
       "interactive(children=(Dropdown(description='status_category', options=('Confirmed', 'Recovered', 'Death'), val…"
      ]
     },
     "metadata": {},
     "output_type": "display_data"
    },
    {
     "data": {
      "text/plain": [
       "<function __main__.plot_top_countries_latest_date_bar(status_category)>"
      ]
     },
     "execution_count": 28,
     "metadata": {},
     "output_type": "execute_result"
    }
   ],
   "source": [
    "# Function to create bar charts for the top 10 countries in each 'Status' category based on the count of the latest date\n",
    "def plot_top_countries_latest_date_bar(status_category):\n",
    "    plt.figure(figsize=(12, 6), facecolor='white')\n",
    "    status_data = Covid_data[Covid_data['Status'] == status_category]\n",
    "    \n",
    "    latest_date = status_data['Date'].max()\n",
    "    latest_date_data = status_data[status_data['Date'] == latest_date]\n",
    "    top_countries_latest_date = latest_date_data.groupby('Country')['Count'].sum().nlargest(10)\n",
    "\n",
    "    bar_plot = sns.barplot(x=top_countries_latest_date.values, y=top_countries_latest_date.index, palette=\"viridis\")\n",
    "\n",
    "    for index, value in enumerate(top_countries_latest_date.values):\n",
    "        bar_plot.text(value, index, f' {value}', ha=\"left\", va=\"center\", fontsize=10, color='black')\n",
    "\n",
    "    plt.title(f'Top 10 Countries by Count on the Latest Date in {status_category} Status', fontsize=15)\n",
    "    plt.xlabel('Count', fontsize=12)\n",
    "    plt.ylabel('Country', fontsize=12)\n",
    "    plt.show()\n",
    "\n",
    "status_categories = Covid_data['Status'].unique()\n",
    "interact(plot_top_countries_latest_date_bar, status_category=status_categories)"
   ]
  },
  {
   "cell_type": "markdown",
   "id": "bc55a06f",
   "metadata": {},
   "source": [
    "# Time Series Plot for Top 1-20 Countries"
   ]
  },
  {
   "cell_type": "code",
   "execution_count": 29,
   "id": "930de498",
   "metadata": {},
   "outputs": [
    {
     "data": {
      "application/vnd.jupyter.widget-view+json": {
       "model_id": "11ff9d97077a41fe9f4ec5951eb6e398",
       "version_major": 2,
       "version_minor": 0
      },
      "text/plain": [
       "interactive(children=(Dropdown(description='category', options=('Confirmed', 'Recovered', 'Death'), value='Con…"
      ]
     },
     "metadata": {},
     "output_type": "display_data"
    },
    {
     "data": {
      "text/plain": [
       "<function __main__.plot_top_countries_time_series(data, category, top_n)>"
      ]
     },
     "execution_count": 29,
     "metadata": {},
     "output_type": "execute_result"
    }
   ],
   "source": [
    "# Function to create time series plots for the top countries based on the sum of counts\n",
    "def plot_top_countries_time_series(data, category, top_n):\n",
    "    plt.figure(figsize=(12, 6), facecolor='white')\n",
    "    category_data = data[data['Status'] == category]\n",
    "    top_countries_sum = category_data.groupby('Country')['Count'].sum().nlargest(top_n)\n",
    "\n",
    "    for country in top_countries_sum.index:\n",
    "        country_data = category_data[category_data['Country'] == country]\n",
    "        sns.lineplot(x=country_data['Date'], y=country_data['Count'], label=country)\n",
    "    plt.title(f'Top {top_n} Countries by Sum of Count in {category} Status (Time Series)', fontsize=15)\n",
    "    plt.xlabel('Date', fontsize=12)\n",
    "    plt.ylabel('Sum of Count', fontsize=12)\n",
    "    plt.legend()\n",
    "    plt.tight_layout()\n",
    "    plt.show()\n",
    "\n",
    "categories = Covid_data['Status'].unique()\n",
    "interact(plot_top_countries_time_series, data=fixed(Covid_data), category=categories, top_n=(1, 20, 1))"
   ]
  },
  {
   "cell_type": "markdown",
   "id": "59113919",
   "metadata": {},
   "source": [
    "# Data Analysis Report\n",
    "\n",
    "The dataset spans a diverse range of latitudes (mean: 20.68) and longitudes (mean: 24.49), indicating global coverage.\n",
    "\n",
    "Latitude ranges from -51.80 to 71.71, reflecting data across both hemispheres, and longitude from -135.00 to 178.06.\n",
    "\n",
    "With 191,540 records, the dataset provides a substantial sample size for analysis.\n",
    "\n",
    "The count values range widely (0.00 to 6,856,884), suggesting varied reported cases.\n",
    "\n",
    "Data encompasses 188 out of 195 countries, emphasizing the global nature of COVID-19.\n",
    "\n",
    "China dominates the dataset with 24,156 entries, indicative of extensive reporting.\n",
    "\n",
    "The US recorded the highest confirmed cases on September 21, 2020, underlining temporal trends.\n",
    "\n",
    "India reported the highest recoveries on September 20, 2020, indicating varying regional dynamics.\n",
    "\n",
    "The US documented the highest death cases on September 21, 2020, marking critical temporal insights.\n",
    "\n",
    "This analysis informs targeted interventions based on geographical spread, count variations, and temporal patterns, contributing to a comprehensive understanding of the dataset."
   ]
  },
  {
   "cell_type": "markdown",
   "id": "022771d0",
   "metadata": {},
   "source": [
    "# Selecting a specific country (US) for Confirmed cases"
   ]
  },
  {
   "cell_type": "code",
   "execution_count": 30,
   "id": "1a5f70c4",
   "metadata": {},
   "outputs": [
    {
     "data": {
      "text/html": [
       "<div>\n",
       "<style scoped>\n",
       "    .dataframe tbody tr th:only-of-type {\n",
       "        vertical-align: middle;\n",
       "    }\n",
       "\n",
       "    .dataframe tbody tr th {\n",
       "        vertical-align: top;\n",
       "    }\n",
       "\n",
       "    .dataframe thead th {\n",
       "        text-align: right;\n",
       "    }\n",
       "</style>\n",
       "<table border=\"1\" class=\"dataframe\">\n",
       "  <thead>\n",
       "    <tr style=\"text-align: right;\">\n",
       "      <th></th>\n",
       "      <th>Country</th>\n",
       "      <th>Lat</th>\n",
       "      <th>Long</th>\n",
       "      <th>Date</th>\n",
       "      <th>Count</th>\n",
       "      <th>Status</th>\n",
       "    </tr>\n",
       "  </thead>\n",
       "  <tbody>\n",
       "    <tr>\n",
       "      <th>0</th>\n",
       "      <td>US</td>\n",
       "      <td>40.00</td>\n",
       "      <td>-100.00</td>\n",
       "      <td>2020-01-22</td>\n",
       "      <td>1</td>\n",
       "      <td>Confirmed</td>\n",
       "    </tr>\n",
       "    <tr>\n",
       "      <th>1</th>\n",
       "      <td>US</td>\n",
       "      <td>40.00</td>\n",
       "      <td>-100.00</td>\n",
       "      <td>2020-01-23</td>\n",
       "      <td>1</td>\n",
       "      <td>Confirmed</td>\n",
       "    </tr>\n",
       "    <tr>\n",
       "      <th>2</th>\n",
       "      <td>US</td>\n",
       "      <td>40.00</td>\n",
       "      <td>-100.00</td>\n",
       "      <td>2020-01-24</td>\n",
       "      <td>2</td>\n",
       "      <td>Confirmed</td>\n",
       "    </tr>\n",
       "    <tr>\n",
       "      <th>3</th>\n",
       "      <td>US</td>\n",
       "      <td>40.00</td>\n",
       "      <td>-100.00</td>\n",
       "      <td>2020-01-25</td>\n",
       "      <td>2</td>\n",
       "      <td>Confirmed</td>\n",
       "    </tr>\n",
       "    <tr>\n",
       "      <th>4</th>\n",
       "      <td>US</td>\n",
       "      <td>40.00</td>\n",
       "      <td>-100.00</td>\n",
       "      <td>2020-01-26</td>\n",
       "      <td>5</td>\n",
       "      <td>Confirmed</td>\n",
       "    </tr>\n",
       "    <tr>\n",
       "      <th>...</th>\n",
       "      <td>...</td>\n",
       "      <td>...</td>\n",
       "      <td>...</td>\n",
       "      <td>...</td>\n",
       "      <td>...</td>\n",
       "      <td>...</td>\n",
       "    </tr>\n",
       "    <tr>\n",
       "      <th>727</th>\n",
       "      <td>US</td>\n",
       "      <td>40.00</td>\n",
       "      <td>-100.00</td>\n",
       "      <td>2020-09-17</td>\n",
       "      <td>197633</td>\n",
       "      <td>Death</td>\n",
       "    </tr>\n",
       "    <tr>\n",
       "      <th>728</th>\n",
       "      <td>US</td>\n",
       "      <td>40.00</td>\n",
       "      <td>-100.00</td>\n",
       "      <td>2020-09-18</td>\n",
       "      <td>198570</td>\n",
       "      <td>Death</td>\n",
       "    </tr>\n",
       "    <tr>\n",
       "      <th>729</th>\n",
       "      <td>US</td>\n",
       "      <td>40.00</td>\n",
       "      <td>-100.00</td>\n",
       "      <td>2020-09-19</td>\n",
       "      <td>199282</td>\n",
       "      <td>Death</td>\n",
       "    </tr>\n",
       "    <tr>\n",
       "      <th>730</th>\n",
       "      <td>US</td>\n",
       "      <td>40.00</td>\n",
       "      <td>-100.00</td>\n",
       "      <td>2020-09-20</td>\n",
       "      <td>199509</td>\n",
       "      <td>Death</td>\n",
       "    </tr>\n",
       "    <tr>\n",
       "      <th>731</th>\n",
       "      <td>US</td>\n",
       "      <td>40.00</td>\n",
       "      <td>-100.00</td>\n",
       "      <td>2020-09-21</td>\n",
       "      <td>199865</td>\n",
       "      <td>Death</td>\n",
       "    </tr>\n",
       "  </tbody>\n",
       "</table>\n",
       "<p>732 rows × 6 columns</p>\n",
       "</div>"
      ],
      "text/plain": [
       "    Country   Lat    Long       Date   Count     Status\n",
       "0        US 40.00 -100.00 2020-01-22       1  Confirmed\n",
       "1        US 40.00 -100.00 2020-01-23       1  Confirmed\n",
       "2        US 40.00 -100.00 2020-01-24       2  Confirmed\n",
       "3        US 40.00 -100.00 2020-01-25       2  Confirmed\n",
       "4        US 40.00 -100.00 2020-01-26       5  Confirmed\n",
       "..      ...   ...     ...        ...     ...        ...\n",
       "727      US 40.00 -100.00 2020-09-17  197633      Death\n",
       "728      US 40.00 -100.00 2020-09-18  198570      Death\n",
       "729      US 40.00 -100.00 2020-09-19  199282      Death\n",
       "730      US 40.00 -100.00 2020-09-20  199509      Death\n",
       "731      US 40.00 -100.00 2020-09-21  199865      Death\n",
       "\n",
       "[732 rows x 6 columns]"
      ]
     },
     "execution_count": 30,
     "metadata": {},
     "output_type": "execute_result"
    }
   ],
   "source": [
    "Covid_data_us = Covid_data[Covid_data['Country'] == 'US']\n",
    "Covid_data_us = Covid_data_us.reset_index(drop=True) # reset the index\n",
    "Covid_data_us"
   ]
  },
  {
   "cell_type": "code",
   "execution_count": 31,
   "id": "efb531bb",
   "metadata": {},
   "outputs": [
    {
     "data": {
      "text/html": [
       "<div>\n",
       "<style scoped>\n",
       "    .dataframe tbody tr th:only-of-type {\n",
       "        vertical-align: middle;\n",
       "    }\n",
       "\n",
       "    .dataframe tbody tr th {\n",
       "        vertical-align: top;\n",
       "    }\n",
       "\n",
       "    .dataframe thead th {\n",
       "        text-align: right;\n",
       "    }\n",
       "</style>\n",
       "<table border=\"1\" class=\"dataframe\">\n",
       "  <thead>\n",
       "    <tr style=\"text-align: right;\">\n",
       "      <th></th>\n",
       "      <th>Country</th>\n",
       "      <th>Lat</th>\n",
       "      <th>Long</th>\n",
       "      <th>Date</th>\n",
       "      <th>Count</th>\n",
       "      <th>Status</th>\n",
       "    </tr>\n",
       "  </thead>\n",
       "  <tbody>\n",
       "    <tr>\n",
       "      <th>0</th>\n",
       "      <td>US</td>\n",
       "      <td>40.00</td>\n",
       "      <td>-100.00</td>\n",
       "      <td>2020-01-22</td>\n",
       "      <td>1</td>\n",
       "      <td>Confirmed</td>\n",
       "    </tr>\n",
       "    <tr>\n",
       "      <th>1</th>\n",
       "      <td>US</td>\n",
       "      <td>40.00</td>\n",
       "      <td>-100.00</td>\n",
       "      <td>2020-01-23</td>\n",
       "      <td>1</td>\n",
       "      <td>Confirmed</td>\n",
       "    </tr>\n",
       "    <tr>\n",
       "      <th>2</th>\n",
       "      <td>US</td>\n",
       "      <td>40.00</td>\n",
       "      <td>-100.00</td>\n",
       "      <td>2020-01-24</td>\n",
       "      <td>2</td>\n",
       "      <td>Confirmed</td>\n",
       "    </tr>\n",
       "    <tr>\n",
       "      <th>3</th>\n",
       "      <td>US</td>\n",
       "      <td>40.00</td>\n",
       "      <td>-100.00</td>\n",
       "      <td>2020-01-25</td>\n",
       "      <td>2</td>\n",
       "      <td>Confirmed</td>\n",
       "    </tr>\n",
       "    <tr>\n",
       "      <th>4</th>\n",
       "      <td>US</td>\n",
       "      <td>40.00</td>\n",
       "      <td>-100.00</td>\n",
       "      <td>2020-01-26</td>\n",
       "      <td>5</td>\n",
       "      <td>Confirmed</td>\n",
       "    </tr>\n",
       "    <tr>\n",
       "      <th>...</th>\n",
       "      <td>...</td>\n",
       "      <td>...</td>\n",
       "      <td>...</td>\n",
       "      <td>...</td>\n",
       "      <td>...</td>\n",
       "      <td>...</td>\n",
       "    </tr>\n",
       "    <tr>\n",
       "      <th>239</th>\n",
       "      <td>US</td>\n",
       "      <td>40.00</td>\n",
       "      <td>-100.00</td>\n",
       "      <td>2020-09-17</td>\n",
       "      <td>6674411</td>\n",
       "      <td>Confirmed</td>\n",
       "    </tr>\n",
       "    <tr>\n",
       "      <th>240</th>\n",
       "      <td>US</td>\n",
       "      <td>40.00</td>\n",
       "      <td>-100.00</td>\n",
       "      <td>2020-09-18</td>\n",
       "      <td>6723933</td>\n",
       "      <td>Confirmed</td>\n",
       "    </tr>\n",
       "    <tr>\n",
       "      <th>241</th>\n",
       "      <td>US</td>\n",
       "      <td>40.00</td>\n",
       "      <td>-100.00</td>\n",
       "      <td>2020-09-19</td>\n",
       "      <td>6768119</td>\n",
       "      <td>Confirmed</td>\n",
       "    </tr>\n",
       "    <tr>\n",
       "      <th>242</th>\n",
       "      <td>US</td>\n",
       "      <td>40.00</td>\n",
       "      <td>-100.00</td>\n",
       "      <td>2020-09-20</td>\n",
       "      <td>6804814</td>\n",
       "      <td>Confirmed</td>\n",
       "    </tr>\n",
       "    <tr>\n",
       "      <th>243</th>\n",
       "      <td>US</td>\n",
       "      <td>40.00</td>\n",
       "      <td>-100.00</td>\n",
       "      <td>2020-09-21</td>\n",
       "      <td>6856884</td>\n",
       "      <td>Confirmed</td>\n",
       "    </tr>\n",
       "  </tbody>\n",
       "</table>\n",
       "<p>244 rows × 6 columns</p>\n",
       "</div>"
      ],
      "text/plain": [
       "    Country   Lat    Long       Date    Count     Status\n",
       "0        US 40.00 -100.00 2020-01-22        1  Confirmed\n",
       "1        US 40.00 -100.00 2020-01-23        1  Confirmed\n",
       "2        US 40.00 -100.00 2020-01-24        2  Confirmed\n",
       "3        US 40.00 -100.00 2020-01-25        2  Confirmed\n",
       "4        US 40.00 -100.00 2020-01-26        5  Confirmed\n",
       "..      ...   ...     ...        ...      ...        ...\n",
       "239      US 40.00 -100.00 2020-09-17  6674411  Confirmed\n",
       "240      US 40.00 -100.00 2020-09-18  6723933  Confirmed\n",
       "241      US 40.00 -100.00 2020-09-19  6768119  Confirmed\n",
       "242      US 40.00 -100.00 2020-09-20  6804814  Confirmed\n",
       "243      US 40.00 -100.00 2020-09-21  6856884  Confirmed\n",
       "\n",
       "[244 rows x 6 columns]"
      ]
     },
     "execution_count": 31,
     "metadata": {},
     "output_type": "execute_result"
    }
   ],
   "source": [
    "# Want only Confirmed cases in US\n",
    "Covid_data_us = Covid_data_us[~Covid_data_us['Status'].isin(['Recovered', 'Death'])]\n",
    "Covid_data_us"
   ]
  },
  {
   "cell_type": "code",
   "execution_count": 32,
   "id": "a3b4ceac",
   "metadata": {
    "scrolled": true
   },
   "outputs": [
    {
     "data": {
      "text/html": [
       "<div>\n",
       "<style scoped>\n",
       "    .dataframe tbody tr th:only-of-type {\n",
       "        vertical-align: middle;\n",
       "    }\n",
       "\n",
       "    .dataframe tbody tr th {\n",
       "        vertical-align: top;\n",
       "    }\n",
       "\n",
       "    .dataframe thead th {\n",
       "        text-align: right;\n",
       "    }\n",
       "</style>\n",
       "<table border=\"1\" class=\"dataframe\">\n",
       "  <thead>\n",
       "    <tr style=\"text-align: right;\">\n",
       "      <th></th>\n",
       "      <th>Date</th>\n",
       "      <th>Count</th>\n",
       "    </tr>\n",
       "  </thead>\n",
       "  <tbody>\n",
       "    <tr>\n",
       "      <th>0</th>\n",
       "      <td>2020-01-22</td>\n",
       "      <td>1</td>\n",
       "    </tr>\n",
       "    <tr>\n",
       "      <th>1</th>\n",
       "      <td>2020-01-23</td>\n",
       "      <td>1</td>\n",
       "    </tr>\n",
       "    <tr>\n",
       "      <th>2</th>\n",
       "      <td>2020-01-24</td>\n",
       "      <td>2</td>\n",
       "    </tr>\n",
       "    <tr>\n",
       "      <th>3</th>\n",
       "      <td>2020-01-25</td>\n",
       "      <td>2</td>\n",
       "    </tr>\n",
       "    <tr>\n",
       "      <th>4</th>\n",
       "      <td>2020-01-26</td>\n",
       "      <td>5</td>\n",
       "    </tr>\n",
       "    <tr>\n",
       "      <th>...</th>\n",
       "      <td>...</td>\n",
       "      <td>...</td>\n",
       "    </tr>\n",
       "    <tr>\n",
       "      <th>239</th>\n",
       "      <td>2020-09-17</td>\n",
       "      <td>6674411</td>\n",
       "    </tr>\n",
       "    <tr>\n",
       "      <th>240</th>\n",
       "      <td>2020-09-18</td>\n",
       "      <td>6723933</td>\n",
       "    </tr>\n",
       "    <tr>\n",
       "      <th>241</th>\n",
       "      <td>2020-09-19</td>\n",
       "      <td>6768119</td>\n",
       "    </tr>\n",
       "    <tr>\n",
       "      <th>242</th>\n",
       "      <td>2020-09-20</td>\n",
       "      <td>6804814</td>\n",
       "    </tr>\n",
       "    <tr>\n",
       "      <th>243</th>\n",
       "      <td>2020-09-21</td>\n",
       "      <td>6856884</td>\n",
       "    </tr>\n",
       "  </tbody>\n",
       "</table>\n",
       "<p>244 rows × 2 columns</p>\n",
       "</div>"
      ],
      "text/plain": [
       "          Date    Count\n",
       "0   2020-01-22        1\n",
       "1   2020-01-23        1\n",
       "2   2020-01-24        2\n",
       "3   2020-01-25        2\n",
       "4   2020-01-26        5\n",
       "..         ...      ...\n",
       "239 2020-09-17  6674411\n",
       "240 2020-09-18  6723933\n",
       "241 2020-09-19  6768119\n",
       "242 2020-09-20  6804814\n",
       "243 2020-09-21  6856884\n",
       "\n",
       "[244 rows x 2 columns]"
      ]
     },
     "execution_count": 32,
     "metadata": {},
     "output_type": "execute_result"
    }
   ],
   "source": [
    "# Drop the unnecessary column\n",
    "Covid_data_us = Covid_data_us.drop(['Lat', 'Long','Country','Status'], axis=1)\n",
    "Covid_data_us"
   ]
  },
  {
   "cell_type": "code",
   "execution_count": 33,
   "id": "20f93e1c",
   "metadata": {},
   "outputs": [
    {
     "data": {
      "text/html": [
       "<div>\n",
       "<style scoped>\n",
       "    .dataframe tbody tr th:only-of-type {\n",
       "        vertical-align: middle;\n",
       "    }\n",
       "\n",
       "    .dataframe tbody tr th {\n",
       "        vertical-align: top;\n",
       "    }\n",
       "\n",
       "    .dataframe thead th {\n",
       "        text-align: right;\n",
       "    }\n",
       "</style>\n",
       "<table border=\"1\" class=\"dataframe\">\n",
       "  <thead>\n",
       "    <tr style=\"text-align: right;\">\n",
       "      <th></th>\n",
       "      <th>Count</th>\n",
       "    </tr>\n",
       "    <tr>\n",
       "      <th>Date</th>\n",
       "      <th></th>\n",
       "    </tr>\n",
       "  </thead>\n",
       "  <tbody>\n",
       "    <tr>\n",
       "      <th>2020-01-22</th>\n",
       "      <td>1</td>\n",
       "    </tr>\n",
       "    <tr>\n",
       "      <th>2020-01-23</th>\n",
       "      <td>1</td>\n",
       "    </tr>\n",
       "    <tr>\n",
       "      <th>2020-01-24</th>\n",
       "      <td>2</td>\n",
       "    </tr>\n",
       "    <tr>\n",
       "      <th>2020-01-25</th>\n",
       "      <td>2</td>\n",
       "    </tr>\n",
       "    <tr>\n",
       "      <th>2020-01-26</th>\n",
       "      <td>5</td>\n",
       "    </tr>\n",
       "    <tr>\n",
       "      <th>...</th>\n",
       "      <td>...</td>\n",
       "    </tr>\n",
       "    <tr>\n",
       "      <th>2020-09-17</th>\n",
       "      <td>6674411</td>\n",
       "    </tr>\n",
       "    <tr>\n",
       "      <th>2020-09-18</th>\n",
       "      <td>6723933</td>\n",
       "    </tr>\n",
       "    <tr>\n",
       "      <th>2020-09-19</th>\n",
       "      <td>6768119</td>\n",
       "    </tr>\n",
       "    <tr>\n",
       "      <th>2020-09-20</th>\n",
       "      <td>6804814</td>\n",
       "    </tr>\n",
       "    <tr>\n",
       "      <th>2020-09-21</th>\n",
       "      <td>6856884</td>\n",
       "    </tr>\n",
       "  </tbody>\n",
       "</table>\n",
       "<p>244 rows × 1 columns</p>\n",
       "</div>"
      ],
      "text/plain": [
       "              Count\n",
       "Date               \n",
       "2020-01-22        1\n",
       "2020-01-23        1\n",
       "2020-01-24        2\n",
       "2020-01-25        2\n",
       "2020-01-26        5\n",
       "...             ...\n",
       "2020-09-17  6674411\n",
       "2020-09-18  6723933\n",
       "2020-09-19  6768119\n",
       "2020-09-20  6804814\n",
       "2020-09-21  6856884\n",
       "\n",
       "[244 rows x 1 columns]"
      ]
     },
     "execution_count": 33,
     "metadata": {},
     "output_type": "execute_result"
    }
   ],
   "source": [
    "# Make Date column as index\n",
    "Covid_data_us.set_index('Date', inplace=True)\n",
    "Covid_data_us"
   ]
  },
  {
   "cell_type": "markdown",
   "id": "367ab759",
   "metadata": {},
   "source": [
    "## Plot for US Confirmed cases"
   ]
  },
  {
   "cell_type": "code",
   "execution_count": 34,
   "id": "2fac4b7a",
   "metadata": {
    "scrolled": false
   },
   "outputs": [
    {
     "data": {
      "image/png": "[encoded data removed]",
      "text/plain": [
       "<Figure size 1500x1000 with 1 Axes>"
      ]
     },
     "metadata": {},
     "output_type": "display_data"
    }
   ],
   "source": [
    "plt.figure(figsize=(15,10),facecolor='white')#canvas  size\n",
    "plt.plot(Covid_data_us)#line plot \n",
    "plt.tight_layout()"
   ]
  },
  {
   "cell_type": "markdown",
   "id": "4c5a7881",
   "metadata": {},
   "source": [
    "* The Confirmed cases in US is showing the Trend in timeseries."
   ]
  },
  {
   "cell_type": "markdown",
   "id": "db78aa37",
   "metadata": {},
   "source": [
    "## Decompose time series components."
   ]
  },
  {
   "cell_type": "code",
   "execution_count": 35,
   "id": "aace1164",
   "metadata": {},
   "outputs": [
    {
     "data": {
      "image/png": "[encoded data removed]",
      "text/plain": [
       "<Figure size 640x480 with 4 Axes>"
      ]
     },
     "execution_count": 35,
     "metadata": {},
     "output_type": "execute_result"
    },
    {
     "data": {
      "image/png": "[encoded data removed]",
      "text/plain": [
       "<Figure size 640x480 with 4 Axes>"
      ]
     },
     "metadata": {},
     "output_type": "display_data"
    }
   ],
   "source": [
    "from statsmodels.tsa.seasonal import seasonal_decompose\n",
    "decompose_data = seasonal_decompose(Covid_data_us, model = \"additive\")\n",
    "decompose_data.plot()"
   ]
  },
  {
   "cell_type": "markdown",
   "id": "0340bec6",
   "metadata": {},
   "source": [
    "# AD-Fuller Test"
   ]
  },
  {
   "cell_type": "code",
   "execution_count": 36,
   "id": "81bc925c",
   "metadata": {},
   "outputs": [
    {
     "name": "stdout",
     "output_type": "stream",
     "text": [
      "1. Test Statistics :  2.1014254053136123\n",
      "2. P-Value :  0.9987910822263308\n",
      "3. Num Of Lags :  11\n",
      "4. Num Of Observations Used For ADF Regression and Critical Values Calculation : 232\n",
      "5. Critical Values :\n",
      "\t 1% :  -3.458854867412691\n",
      "\t 5% :  -2.8740800599399323\n",
      "\t 10% :  -2.573453223097503\n"
     ]
    }
   ],
   "source": [
    "# ADfuller Test to check stationarity \n",
    "\n",
    "from statsmodels.tsa.stattools import adfuller\n",
    "dftest = adfuller(Covid_data_us.Count, autolag = 'AIC')\n",
    "print(\"1. Test Statistics : \",dftest[0])\n",
    "print(\"2. P-Value : \", dftest[1])\n",
    "print(\"3. Num Of Lags : \", dftest[2])\n",
    "print(\"4. Num Of Observations Used For ADF Regression and Critical Values Calculation :\", dftest[3])\n",
    "print(\"5. Critical Values :\")\n",
    "for key, val in dftest[4].items():\n",
    "    print(\"\\t\",key, \": \", val)"
   ]
  },
  {
   "cell_type": "markdown",
   "id": "5f8982e8",
   "metadata": {},
   "source": [
    "* As Test Statistics > Critical values and p-value > 0.05, the timeseries is not stationary so we have to make it stationary by differencing method."
   ]
  },
  {
   "cell_type": "markdown",
   "id": "e0bfb907",
   "metadata": {},
   "source": [
    "# Differencing"
   ]
  },
  {
   "cell_type": "markdown",
   "id": "2ff349ec",
   "metadata": {},
   "source": [
    "### Differencing 1"
   ]
  },
  {
   "cell_type": "code",
   "execution_count": 37,
   "id": "d93d87f3",
   "metadata": {},
   "outputs": [
    {
     "data": {
      "text/html": [
       "<div>\n",
       "<style scoped>\n",
       "    .dataframe tbody tr th:only-of-type {\n",
       "        vertical-align: middle;\n",
       "    }\n",
       "\n",
       "    .dataframe tbody tr th {\n",
       "        vertical-align: top;\n",
       "    }\n",
       "\n",
       "    .dataframe thead th {\n",
       "        text-align: right;\n",
       "    }\n",
       "</style>\n",
       "<table border=\"1\" class=\"dataframe\">\n",
       "  <thead>\n",
       "    <tr style=\"text-align: right;\">\n",
       "      <th></th>\n",
       "      <th>Count</th>\n",
       "    </tr>\n",
       "    <tr>\n",
       "      <th>Date</th>\n",
       "      <th></th>\n",
       "    </tr>\n",
       "  </thead>\n",
       "  <tbody>\n",
       "    <tr>\n",
       "      <th>2020-01-22</th>\n",
       "      <td>NaN</td>\n",
       "    </tr>\n",
       "    <tr>\n",
       "      <th>2020-01-23</th>\n",
       "      <td>0.00</td>\n",
       "    </tr>\n",
       "    <tr>\n",
       "      <th>2020-01-24</th>\n",
       "      <td>1.00</td>\n",
       "    </tr>\n",
       "    <tr>\n",
       "      <th>2020-01-25</th>\n",
       "      <td>0.00</td>\n",
       "    </tr>\n",
       "    <tr>\n",
       "      <th>2020-01-26</th>\n",
       "      <td>3.00</td>\n",
       "    </tr>\n",
       "    <tr>\n",
       "      <th>...</th>\n",
       "      <td>...</td>\n",
       "    </tr>\n",
       "    <tr>\n",
       "      <th>2020-09-17</th>\n",
       "      <td>44360.00</td>\n",
       "    </tr>\n",
       "    <tr>\n",
       "      <th>2020-09-18</th>\n",
       "      <td>49522.00</td>\n",
       "    </tr>\n",
       "    <tr>\n",
       "      <th>2020-09-19</th>\n",
       "      <td>44186.00</td>\n",
       "    </tr>\n",
       "    <tr>\n",
       "      <th>2020-09-20</th>\n",
       "      <td>36695.00</td>\n",
       "    </tr>\n",
       "    <tr>\n",
       "      <th>2020-09-21</th>\n",
       "      <td>52070.00</td>\n",
       "    </tr>\n",
       "  </tbody>\n",
       "</table>\n",
       "<p>244 rows × 1 columns</p>\n",
       "</div>"
      ],
      "text/plain": [
       "              Count\n",
       "Date               \n",
       "2020-01-22      NaN\n",
       "2020-01-23     0.00\n",
       "2020-01-24     1.00\n",
       "2020-01-25     0.00\n",
       "2020-01-26     3.00\n",
       "...             ...\n",
       "2020-09-17 44360.00\n",
       "2020-09-18 49522.00\n",
       "2020-09-19 44186.00\n",
       "2020-09-20 36695.00\n",
       "2020-09-21 52070.00\n",
       "\n",
       "[244 rows x 1 columns]"
      ]
     },
     "execution_count": 37,
     "metadata": {},
     "output_type": "execute_result"
    }
   ],
   "source": [
    "data1=Covid_data_us.diff(periods=1)\n",
    "data1"
   ]
  },
  {
   "cell_type": "code",
   "execution_count": 38,
   "id": "80eff2d5",
   "metadata": {},
   "outputs": [],
   "source": [
    "data1=data1.iloc[1:] #null value discarded"
   ]
  },
  {
   "cell_type": "code",
   "execution_count": 39,
   "id": "848b6147",
   "metadata": {},
   "outputs": [
    {
     "name": "stdout",
     "output_type": "stream",
     "text": [
      "1. Test Statistics :  -1.6892737521001717\n",
      "2. P-Value :  0.4366472636332885\n",
      "3. Num Of Lags :  15\n",
      "4. Num Of Observations Used For ADF Regression and Critical Values Calculation : 227\n",
      "5. Critical Values :\n",
      "\t 1% :  -3.4594900381360034\n",
      "\t 5% :  -2.8743581895178485\n",
      "\t 10% :  -2.573601605503697\n"
     ]
    }
   ],
   "source": [
    "from statsmodels.tsa.stattools import adfuller\n",
    "dftest = adfuller(data1.Count, autolag = 'AIC')\n",
    "print(\"1. Test Statistics : \",dftest[0])\n",
    "print(\"2. P-Value : \", dftest[1])\n",
    "print(\"3. Num Of Lags : \", dftest[2])\n",
    "print(\"4. Num Of Observations Used For ADF Regression and Critical Values Calculation :\", dftest[3])\n",
    "print(\"5. Critical Values :\")\n",
    "for key, val in dftest[4].items():\n",
    "    print(\"\\t\",key, \": \", val)"
   ]
  },
  {
   "cell_type": "markdown",
   "id": "2aca9998",
   "metadata": {},
   "source": [
    "* Again Test Statistics > Critical values and p-value > 0.05, the timeseries is not stationary so we have to make it stationary by differencing method."
   ]
  },
  {
   "cell_type": "markdown",
   "id": "a40b1a3b",
   "metadata": {},
   "source": [
    "### Differencing 2"
   ]
  },
  {
   "cell_type": "code",
   "execution_count": 40,
   "id": "6b946101",
   "metadata": {},
   "outputs": [],
   "source": [
    "data2=data1.diff(periods=1) # differencing applied to data1"
   ]
  },
  {
   "cell_type": "code",
   "execution_count": 41,
   "id": "a92f19c2",
   "metadata": {},
   "outputs": [],
   "source": [
    "data2=data2.iloc[1:]"
   ]
  },
  {
   "cell_type": "code",
   "execution_count": 42,
   "id": "76fcbbd1",
   "metadata": {},
   "outputs": [
    {
     "name": "stdout",
     "output_type": "stream",
     "text": [
      "1. Test Statistics :  -2.4953581503715547\n",
      "2. P-Value :  0.11660782591222857\n",
      "3. Num Of Lags :  15\n",
      "4. Num Of Observations Used For ADF Regression and Critical Values Calculation : 226\n",
      "5. Critical Values :\n",
      "\t 1% :  -3.4596204846395824\n",
      "\t 5% :  -2.8744153028455948\n",
      "\t 10% :  -2.5736320761218576\n"
     ]
    }
   ],
   "source": [
    "from statsmodels.tsa.stattools import adfuller\n",
    "dftest = adfuller(data2.Count, autolag = 'AIC')\n",
    "print(\"1. Test Statistics : \",dftest[0])\n",
    "print(\"2. P-Value : \", dftest[1])\n",
    "print(\"3. Num Of Lags : \", dftest[2])\n",
    "print(\"4. Num Of Observations Used For ADF Regression and Critical Values Calculation :\", dftest[3])\n",
    "print(\"5. Critical Values :\")\n",
    "for key, val in dftest[4].items():\n",
    "    print(\"\\t\",key, \": \", val)"
   ]
  },
  {
   "cell_type": "markdown",
   "id": "8f1753a1",
   "metadata": {},
   "source": [
    "* Again Test Statistics > Critical values and p-value > 0.05, the timeseries is not stationary so we have to make it stationary by differencing method."
   ]
  },
  {
   "cell_type": "markdown",
   "id": "5a0c7db5",
   "metadata": {},
   "source": [
    "### Differencing 3"
   ]
  },
  {
   "cell_type": "code",
   "execution_count": 43,
   "id": "b1057a14",
   "metadata": {},
   "outputs": [],
   "source": [
    "data3=data2.diff(periods=1) # differencing applied to data2"
   ]
  },
  {
   "cell_type": "code",
   "execution_count": 44,
   "id": "defeca92",
   "metadata": {},
   "outputs": [],
   "source": [
    "data3=data3.iloc[1:]"
   ]
  },
  {
   "cell_type": "code",
   "execution_count": 45,
   "id": "a8cbe95d",
   "metadata": {},
   "outputs": [
    {
     "name": "stdout",
     "output_type": "stream",
     "text": [
      "1. Test Statistics :  -5.66154596255921\n",
      "2. P-Value :  9.35504024158457e-07\n",
      "3. Num Of Lags :  15\n",
      "4. Num Of Observations Used For ADF Regression and Critical Values Calculation : 225\n",
      "5. Critical Values :\n",
      "\t 1% :  -3.4597521044060353\n",
      "\t 5% :  -2.874472927517147\n",
      "\t 10% :  -2.5736628197530864\n"
     ]
    }
   ],
   "source": [
    "from statsmodels.tsa.stattools import adfuller\n",
    "dftest = adfuller(data3.Count, autolag = 'AIC')\n",
    "print(\"1. Test Statistics : \",dftest[0])\n",
    "print(\"2. P-Value : \", dftest[1])\n",
    "print(\"3. Num Of Lags : \", dftest[2])\n",
    "print(\"4. Num Of Observations Used For ADF Regression and Critical Values Calculation :\", dftest[3])\n",
    "print(\"5. Critical Values :\")\n",
    "for key, val in dftest[4].items():\n",
    "    print(\"\\t\",key, \": \", val)"
   ]
  },
  {
   "cell_type": "markdown",
   "id": "17b377be",
   "metadata": {},
   "source": [
    "* The p-value of 9.355040241588842e-07 is very small, much smaller than 0.05. Also our test statistics is smaller than critical values. Hence, we can say that our data is now stationary.\n"
   ]
  },
  {
   "cell_type": "markdown",
   "id": "075bd326",
   "metadata": {},
   "source": [
    "# Plot to check stationary"
   ]
  },
  {
   "cell_type": "code",
   "execution_count": 46,
   "id": "2b664001",
   "metadata": {},
   "outputs": [
    {
     "data": {
      "text/plain": [
       "<Axes: xlabel='Date', ylabel='Count'>"
      ]
     },
     "execution_count": 46,
     "metadata": {},
     "output_type": "execute_result"
    },
    {
     "data": {
      "image/png": "[encoded data removed]",
      "text/plain": [
       "<Figure size 1000x500 with 1 Axes>"
      ]
     },
     "metadata": {},
     "output_type": "display_data"
    }
   ],
   "source": [
    "plt.figure(figsize=(10,5))\n",
    "sns.lineplot(data=data3, x=data3.index, y=data3.Count)"
   ]
  },
  {
   "cell_type": "markdown",
   "id": "91bc7acd",
   "metadata": {},
   "source": [
    "* In this plot also, our standard deviation and mean are constant hence we can say it is stationary."
   ]
  },
  {
   "cell_type": "markdown",
   "id": "a7031b99",
   "metadata": {},
   "source": [
    "# Plotting ACF and PACF plot"
   ]
  },
  {
   "cell_type": "code",
   "execution_count": 47,
   "id": "8f596411",
   "metadata": {
    "scrolled": false
   },
   "outputs": [
    {
     "data": {
      "image/png": "[encoded data removed]",
      "text/plain": [
       "<Figure size 1200x600 with 1 Axes>"
      ]
     },
     "execution_count": 47,
     "metadata": {},
     "output_type": "execute_result"
    },
    {
     "data": {
      "image/png": "[encoded data removed]",
      "text/plain": [
       "<Figure size 1200x600 with 1 Axes>"
      ]
     },
     "metadata": {},
     "output_type": "display_data"
    },
    {
     "data": {
      "image/png": "[encoded data removed]",
      "text/plain": [
       "<Figure size 1200x600 with 1 Axes>"
      ]
     },
     "metadata": {},
     "output_type": "display_data"
    }
   ],
   "source": [
    "from statsmodels.graphics.tsaplots import plot_acf, plot_pacf\n",
    "\n",
    "# Plot ACF\n",
    "fig, ax = plt.subplots(figsize=(12, 6))\n",
    "plot_acf(data3, lags=40, ax=ax, title='Autocorrelation Function (ACF)')\n",
    "\n",
    "# Plot PACF\n",
    "fig, ax = plt.subplots(figsize=(12, 6))\n",
    "plot_pacf(data3, lags=40, ax=ax, title='Partial Autocorrelation Function (PACF)')"
   ]
  },
  {
   "cell_type": "markdown",
   "id": "e4527f65",
   "metadata": {},
   "source": [
    "* By the ACF and PACF plot we will take the q value as 1, and p value as 8 and d value will be 3 as we have done differencing 3 times."
   ]
  },
  {
   "cell_type": "code",
   "execution_count": 48,
   "id": "4e2494a2",
   "metadata": {},
   "outputs": [
    {
     "data": {
      "text/plain": [
       "(241, 1)"
      ]
     },
     "execution_count": 48,
     "metadata": {},
     "output_type": "execute_result"
    }
   ],
   "source": [
    "data3.shape"
   ]
  },
  {
   "cell_type": "markdown",
   "id": "d244d565",
   "metadata": {},
   "source": [
    "# Training and testing of data"
   ]
  },
  {
   "cell_type": "code",
   "execution_count": 49,
   "id": "2289d055",
   "metadata": {},
   "outputs": [],
   "source": [
    "## Creating training and test sets\n",
    "train=data3[:190]\n",
    "test=data3[190:] "
   ]
  },
  {
   "cell_type": "code",
   "execution_count": 50,
   "id": "4179c276",
   "metadata": {},
   "outputs": [
    {
     "name": "stdout",
     "output_type": "stream",
     "text": [
      "<class 'pandas.core.frame.DataFrame'>\n",
      "DatetimeIndex: 51 entries, 2020-08-02 to 2020-09-21\n",
      "Data columns (total 1 columns):\n",
      " #   Column  Non-Null Count  Dtype  \n",
      "---  ------  --------------  -----  \n",
      " 0   Count   51 non-null     float64\n",
      "dtypes: float64(1)\n",
      "memory usage: 816.0 bytes\n"
     ]
    }
   ],
   "source": [
    "test.info()"
   ]
  },
  {
   "cell_type": "markdown",
   "id": "54b6c583",
   "metadata": {},
   "source": [
    "# ARIMA Model"
   ]
  },
  {
   "cell_type": "code",
   "execution_count": 51,
   "id": "4323f61d",
   "metadata": {},
   "outputs": [],
   "source": [
    "import warnings\n",
    "warnings.filterwarnings('ignore')"
   ]
  },
  {
   "cell_type": "code",
   "execution_count": 52,
   "id": "5cd4eefa",
   "metadata": {
    "scrolled": true
   },
   "outputs": [],
   "source": [
    "from statsmodels.tsa.arima.model import ARIMA\n",
    "model_arima = ARIMA(train, order=(8,3,1))#order= p,d,q #based on intuition \n",
    "model_arima_fit = model_arima.fit()"
   ]
  },
  {
   "cell_type": "markdown",
   "id": "2036fa44",
   "metadata": {},
   "source": [
    "* I have taken the (p,d,q) value as (8,3,1) as intuition of acf and pacf plot."
   ]
  },
  {
   "cell_type": "code",
   "execution_count": 53,
   "id": "79234e88",
   "metadata": {},
   "outputs": [
    {
     "name": "stdout",
     "output_type": "stream",
     "text": [
      "3735.869615951569\n"
     ]
    }
   ],
   "source": [
    "print(model_arima_fit.aic)"
   ]
  },
  {
   "cell_type": "code",
   "execution_count": 54,
   "id": "e95534aa",
   "metadata": {},
   "outputs": [],
   "source": [
    "predictions = model_arima_fit.forecast(steps=10)"
   ]
  },
  {
   "cell_type": "code",
   "execution_count": 55,
   "id": "9553cfd1",
   "metadata": {},
   "outputs": [
    {
     "data": {
      "image/png": "[encoded data removed]",
      "text/plain": [
       "<Figure size 640x480 with 1 Axes>"
      ]
     },
     "metadata": {},
     "output_type": "display_data"
    }
   ],
   "source": [
    "plt.plot(test[:10])\n",
    "plt.xticks(rotation=45)\n",
    "plt.show()"
   ]
  },
  {
   "cell_type": "code",
   "execution_count": 56,
   "id": "385ecf91",
   "metadata": {},
   "outputs": [
    {
     "data": {
      "image/png": "[encoded data removed]",
      "text/plain": [
       "<Figure size 640x480 with 1 Axes>"
      ]
     },
     "metadata": {},
     "output_type": "display_data"
    }
   ],
   "source": [
    "plt.plot(predictions,color='green')\n",
    "plt.xticks(rotation=45)\n",
    "plt.show()"
   ]
  },
  {
   "cell_type": "code",
   "execution_count": 57,
   "id": "dc6aae31",
   "metadata": {},
   "outputs": [
    {
     "data": {
      "text/plain": [
       "[(0, 0, 0),\n",
       " (0, 0, 1),\n",
       " (0, 0, 2),\n",
       " (0, 0, 3),\n",
       " (0, 0, 4),\n",
       " (0, 0, 5),\n",
       " (0, 0, 6),\n",
       " (0, 0, 7),\n",
       " (0, 1, 0),\n",
       " (0, 1, 1),\n",
       " (0, 1, 2),\n",
       " (0, 1, 3),\n",
       " (0, 1, 4),\n",
       " (0, 1, 5),\n",
       " (0, 1, 6),\n",
       " (0, 1, 7),\n",
       " (0, 2, 0),\n",
       " (0, 2, 1),\n",
       " (0, 2, 2),\n",
       " (0, 2, 3),\n",
       " (0, 2, 4),\n",
       " (0, 2, 5),\n",
       " (0, 2, 6),\n",
       " (0, 2, 7),\n",
       " (0, 3, 0),\n",
       " (0, 3, 1),\n",
       " (0, 3, 2),\n",
       " (0, 3, 3),\n",
       " (0, 3, 4),\n",
       " (0, 3, 5),\n",
       " (0, 3, 6),\n",
       " (0, 3, 7),\n",
       " (0, 4, 0),\n",
       " (0, 4, 1),\n",
       " (0, 4, 2),\n",
       " (0, 4, 3),\n",
       " (0, 4, 4),\n",
       " (0, 4, 5),\n",
       " (0, 4, 6),\n",
       " (0, 4, 7),\n",
       " (0, 5, 0),\n",
       " (0, 5, 1),\n",
       " (0, 5, 2),\n",
       " (0, 5, 3),\n",
       " (0, 5, 4),\n",
       " (0, 5, 5),\n",
       " (0, 5, 6),\n",
       " (0, 5, 7),\n",
       " (0, 6, 0),\n",
       " (0, 6, 1),\n",
       " (0, 6, 2),\n",
       " (0, 6, 3),\n",
       " (0, 6, 4),\n",
       " (0, 6, 5),\n",
       " (0, 6, 6),\n",
       " (0, 6, 7),\n",
       " (0, 7, 0),\n",
       " (0, 7, 1),\n",
       " (0, 7, 2),\n",
       " (0, 7, 3),\n",
       " (0, 7, 4),\n",
       " (0, 7, 5),\n",
       " (0, 7, 6),\n",
       " (0, 7, 7),\n",
       " (1, 0, 0),\n",
       " (1, 0, 1),\n",
       " (1, 0, 2),\n",
       " (1, 0, 3),\n",
       " (1, 0, 4),\n",
       " (1, 0, 5),\n",
       " (1, 0, 6),\n",
       " (1, 0, 7),\n",
       " (1, 1, 0),\n",
       " (1, 1, 1),\n",
       " (1, 1, 2),\n",
       " (1, 1, 3),\n",
       " (1, 1, 4),\n",
       " (1, 1, 5),\n",
       " (1, 1, 6),\n",
       " (1, 1, 7),\n",
       " (1, 2, 0),\n",
       " (1, 2, 1),\n",
       " (1, 2, 2),\n",
       " (1, 2, 3),\n",
       " (1, 2, 4),\n",
       " (1, 2, 5),\n",
       " (1, 2, 6),\n",
       " (1, 2, 7),\n",
       " (1, 3, 0),\n",
       " (1, 3, 1),\n",
       " (1, 3, 2),\n",
       " (1, 3, 3),\n",
       " (1, 3, 4),\n",
       " (1, 3, 5),\n",
       " (1, 3, 6),\n",
       " (1, 3, 7),\n",
       " (1, 4, 0),\n",
       " (1, 4, 1),\n",
       " (1, 4, 2),\n",
       " (1, 4, 3),\n",
       " (1, 4, 4),\n",
       " (1, 4, 5),\n",
       " (1, 4, 6),\n",
       " (1, 4, 7),\n",
       " (1, 5, 0),\n",
       " (1, 5, 1),\n",
       " (1, 5, 2),\n",
       " (1, 5, 3),\n",
       " (1, 5, 4),\n",
       " (1, 5, 5),\n",
       " (1, 5, 6),\n",
       " (1, 5, 7),\n",
       " (1, 6, 0),\n",
       " (1, 6, 1),\n",
       " (1, 6, 2),\n",
       " (1, 6, 3),\n",
       " (1, 6, 4),\n",
       " (1, 6, 5),\n",
       " (1, 6, 6),\n",
       " (1, 6, 7),\n",
       " (1, 7, 0),\n",
       " (1, 7, 1),\n",
       " (1, 7, 2),\n",
       " (1, 7, 3),\n",
       " (1, 7, 4),\n",
       " (1, 7, 5),\n",
       " (1, 7, 6),\n",
       " (1, 7, 7),\n",
       " (2, 0, 0),\n",
       " (2, 0, 1),\n",
       " (2, 0, 2),\n",
       " (2, 0, 3),\n",
       " (2, 0, 4),\n",
       " (2, 0, 5),\n",
       " (2, 0, 6),\n",
       " (2, 0, 7),\n",
       " (2, 1, 0),\n",
       " (2, 1, 1),\n",
       " (2, 1, 2),\n",
       " (2, 1, 3),\n",
       " (2, 1, 4),\n",
       " (2, 1, 5),\n",
       " (2, 1, 6),\n",
       " (2, 1, 7),\n",
       " (2, 2, 0),\n",
       " (2, 2, 1),\n",
       " (2, 2, 2),\n",
       " (2, 2, 3),\n",
       " (2, 2, 4),\n",
       " (2, 2, 5),\n",
       " (2, 2, 6),\n",
       " (2, 2, 7),\n",
       " (2, 3, 0),\n",
       " (2, 3, 1),\n",
       " (2, 3, 2),\n",
       " (2, 3, 3),\n",
       " (2, 3, 4),\n",
       " (2, 3, 5),\n",
       " (2, 3, 6),\n",
       " (2, 3, 7),\n",
       " (2, 4, 0),\n",
       " (2, 4, 1),\n",
       " (2, 4, 2),\n",
       " (2, 4, 3),\n",
       " (2, 4, 4),\n",
       " (2, 4, 5),\n",
       " (2, 4, 6),\n",
       " (2, 4, 7),\n",
       " (2, 5, 0),\n",
       " (2, 5, 1),\n",
       " (2, 5, 2),\n",
       " (2, 5, 3),\n",
       " (2, 5, 4),\n",
       " (2, 5, 5),\n",
       " (2, 5, 6),\n",
       " (2, 5, 7),\n",
       " (2, 6, 0),\n",
       " (2, 6, 1),\n",
       " (2, 6, 2),\n",
       " (2, 6, 3),\n",
       " (2, 6, 4),\n",
       " (2, 6, 5),\n",
       " (2, 6, 6),\n",
       " (2, 6, 7),\n",
       " (2, 7, 0),\n",
       " (2, 7, 1),\n",
       " (2, 7, 2),\n",
       " (2, 7, 3),\n",
       " (2, 7, 4),\n",
       " (2, 7, 5),\n",
       " (2, 7, 6),\n",
       " (2, 7, 7),\n",
       " (3, 0, 0),\n",
       " (3, 0, 1),\n",
       " (3, 0, 2),\n",
       " (3, 0, 3),\n",
       " (3, 0, 4),\n",
       " (3, 0, 5),\n",
       " (3, 0, 6),\n",
       " (3, 0, 7),\n",
       " (3, 1, 0),\n",
       " (3, 1, 1),\n",
       " (3, 1, 2),\n",
       " (3, 1, 3),\n",
       " (3, 1, 4),\n",
       " (3, 1, 5),\n",
       " (3, 1, 6),\n",
       " (3, 1, 7),\n",
       " (3, 2, 0),\n",
       " (3, 2, 1),\n",
       " (3, 2, 2),\n",
       " (3, 2, 3),\n",
       " (3, 2, 4),\n",
       " (3, 2, 5),\n",
       " (3, 2, 6),\n",
       " (3, 2, 7),\n",
       " (3, 3, 0),\n",
       " (3, 3, 1),\n",
       " (3, 3, 2),\n",
       " (3, 3, 3),\n",
       " (3, 3, 4),\n",
       " (3, 3, 5),\n",
       " (3, 3, 6),\n",
       " (3, 3, 7),\n",
       " (3, 4, 0),\n",
       " (3, 4, 1),\n",
       " (3, 4, 2),\n",
       " (3, 4, 3),\n",
       " (3, 4, 4),\n",
       " (3, 4, 5),\n",
       " (3, 4, 6),\n",
       " (3, 4, 7),\n",
       " (3, 5, 0),\n",
       " (3, 5, 1),\n",
       " (3, 5, 2),\n",
       " (3, 5, 3),\n",
       " (3, 5, 4),\n",
       " (3, 5, 5),\n",
       " (3, 5, 6),\n",
       " (3, 5, 7),\n",
       " (3, 6, 0),\n",
       " (3, 6, 1),\n",
       " (3, 6, 2),\n",
       " (3, 6, 3),\n",
       " (3, 6, 4),\n",
       " (3, 6, 5),\n",
       " (3, 6, 6),\n",
       " (3, 6, 7),\n",
       " (3, 7, 0),\n",
       " (3, 7, 1),\n",
       " (3, 7, 2),\n",
       " (3, 7, 3),\n",
       " (3, 7, 4),\n",
       " (3, 7, 5),\n",
       " (3, 7, 6),\n",
       " (3, 7, 7),\n",
       " (4, 0, 0),\n",
       " (4, 0, 1),\n",
       " (4, 0, 2),\n",
       " (4, 0, 3),\n",
       " (4, 0, 4),\n",
       " (4, 0, 5),\n",
       " (4, 0, 6),\n",
       " (4, 0, 7),\n",
       " (4, 1, 0),\n",
       " (4, 1, 1),\n",
       " (4, 1, 2),\n",
       " (4, 1, 3),\n",
       " (4, 1, 4),\n",
       " (4, 1, 5),\n",
       " (4, 1, 6),\n",
       " (4, 1, 7),\n",
       " (4, 2, 0),\n",
       " (4, 2, 1),\n",
       " (4, 2, 2),\n",
       " (4, 2, 3),\n",
       " (4, 2, 4),\n",
       " (4, 2, 5),\n",
       " (4, 2, 6),\n",
       " (4, 2, 7),\n",
       " (4, 3, 0),\n",
       " (4, 3, 1),\n",
       " (4, 3, 2),\n",
       " (4, 3, 3),\n",
       " (4, 3, 4),\n",
       " (4, 3, 5),\n",
       " (4, 3, 6),\n",
       " (4, 3, 7),\n",
       " (4, 4, 0),\n",
       " (4, 4, 1),\n",
       " (4, 4, 2),\n",
       " (4, 4, 3),\n",
       " (4, 4, 4),\n",
       " (4, 4, 5),\n",
       " (4, 4, 6),\n",
       " (4, 4, 7),\n",
       " (4, 5, 0),\n",
       " (4, 5, 1),\n",
       " (4, 5, 2),\n",
       " (4, 5, 3),\n",
       " (4, 5, 4),\n",
       " (4, 5, 5),\n",
       " (4, 5, 6),\n",
       " (4, 5, 7),\n",
       " (4, 6, 0),\n",
       " (4, 6, 1),\n",
       " (4, 6, 2),\n",
       " (4, 6, 3),\n",
       " (4, 6, 4),\n",
       " (4, 6, 5),\n",
       " (4, 6, 6),\n",
       " (4, 6, 7),\n",
       " (4, 7, 0),\n",
       " (4, 7, 1),\n",
       " (4, 7, 2),\n",
       " (4, 7, 3),\n",
       " (4, 7, 4),\n",
       " (4, 7, 5),\n",
       " (4, 7, 6),\n",
       " (4, 7, 7),\n",
       " (5, 0, 0),\n",
       " (5, 0, 1),\n",
       " (5, 0, 2),\n",
       " (5, 0, 3),\n",
       " (5, 0, 4),\n",
       " (5, 0, 5),\n",
       " (5, 0, 6),\n",
       " (5, 0, 7),\n",
       " (5, 1, 0),\n",
       " (5, 1, 1),\n",
       " (5, 1, 2),\n",
       " (5, 1, 3),\n",
       " (5, 1, 4),\n",
       " (5, 1, 5),\n",
       " (5, 1, 6),\n",
       " (5, 1, 7),\n",
       " (5, 2, 0),\n",
       " (5, 2, 1),\n",
       " (5, 2, 2),\n",
       " (5, 2, 3),\n",
       " (5, 2, 4),\n",
       " (5, 2, 5),\n",
       " (5, 2, 6),\n",
       " (5, 2, 7),\n",
       " (5, 3, 0),\n",
       " (5, 3, 1),\n",
       " (5, 3, 2),\n",
       " (5, 3, 3),\n",
       " (5, 3, 4),\n",
       " (5, 3, 5),\n",
       " (5, 3, 6),\n",
       " (5, 3, 7),\n",
       " (5, 4, 0),\n",
       " (5, 4, 1),\n",
       " (5, 4, 2),\n",
       " (5, 4, 3),\n",
       " (5, 4, 4),\n",
       " (5, 4, 5),\n",
       " (5, 4, 6),\n",
       " (5, 4, 7),\n",
       " (5, 5, 0),\n",
       " (5, 5, 1),\n",
       " (5, 5, 2),\n",
       " (5, 5, 3),\n",
       " (5, 5, 4),\n",
       " (5, 5, 5),\n",
       " (5, 5, 6),\n",
       " (5, 5, 7),\n",
       " (5, 6, 0),\n",
       " (5, 6, 1),\n",
       " (5, 6, 2),\n",
       " (5, 6, 3),\n",
       " (5, 6, 4),\n",
       " (5, 6, 5),\n",
       " (5, 6, 6),\n",
       " (5, 6, 7),\n",
       " (5, 7, 0),\n",
       " (5, 7, 1),\n",
       " (5, 7, 2),\n",
       " (5, 7, 3),\n",
       " (5, 7, 4),\n",
       " (5, 7, 5),\n",
       " (5, 7, 6),\n",
       " (5, 7, 7),\n",
       " (6, 0, 0),\n",
       " (6, 0, 1),\n",
       " (6, 0, 2),\n",
       " (6, 0, 3),\n",
       " (6, 0, 4),\n",
       " (6, 0, 5),\n",
       " (6, 0, 6),\n",
       " (6, 0, 7),\n",
       " (6, 1, 0),\n",
       " (6, 1, 1),\n",
       " (6, 1, 2),\n",
       " (6, 1, 3),\n",
       " (6, 1, 4),\n",
       " (6, 1, 5),\n",
       " (6, 1, 6),\n",
       " (6, 1, 7),\n",
       " (6, 2, 0),\n",
       " (6, 2, 1),\n",
       " (6, 2, 2),\n",
       " (6, 2, 3),\n",
       " (6, 2, 4),\n",
       " (6, 2, 5),\n",
       " (6, 2, 6),\n",
       " (6, 2, 7),\n",
       " (6, 3, 0),\n",
       " (6, 3, 1),\n",
       " (6, 3, 2),\n",
       " (6, 3, 3),\n",
       " (6, 3, 4),\n",
       " (6, 3, 5),\n",
       " (6, 3, 6),\n",
       " (6, 3, 7),\n",
       " (6, 4, 0),\n",
       " (6, 4, 1),\n",
       " (6, 4, 2),\n",
       " (6, 4, 3),\n",
       " (6, 4, 4),\n",
       " (6, 4, 5),\n",
       " (6, 4, 6),\n",
       " (6, 4, 7),\n",
       " (6, 5, 0),\n",
       " (6, 5, 1),\n",
       " (6, 5, 2),\n",
       " (6, 5, 3),\n",
       " (6, 5, 4),\n",
       " (6, 5, 5),\n",
       " (6, 5, 6),\n",
       " (6, 5, 7),\n",
       " (6, 6, 0),\n",
       " (6, 6, 1),\n",
       " (6, 6, 2),\n",
       " (6, 6, 3),\n",
       " (6, 6, 4),\n",
       " (6, 6, 5),\n",
       " (6, 6, 6),\n",
       " (6, 6, 7),\n",
       " (6, 7, 0),\n",
       " (6, 7, 1),\n",
       " (6, 7, 2),\n",
       " (6, 7, 3),\n",
       " (6, 7, 4),\n",
       " (6, 7, 5),\n",
       " (6, 7, 6),\n",
       " (6, 7, 7),\n",
       " (7, 0, 0),\n",
       " (7, 0, 1),\n",
       " (7, 0, 2),\n",
       " (7, 0, 3),\n",
       " (7, 0, 4),\n",
       " (7, 0, 5),\n",
       " (7, 0, 6),\n",
       " (7, 0, 7),\n",
       " (7, 1, 0),\n",
       " (7, 1, 1),\n",
       " (7, 1, 2),\n",
       " (7, 1, 3),\n",
       " (7, 1, 4),\n",
       " (7, 1, 5),\n",
       " (7, 1, 6),\n",
       " (7, 1, 7),\n",
       " (7, 2, 0),\n",
       " (7, 2, 1),\n",
       " (7, 2, 2),\n",
       " (7, 2, 3),\n",
       " (7, 2, 4),\n",
       " (7, 2, 5),\n",
       " (7, 2, 6),\n",
       " (7, 2, 7),\n",
       " (7, 3, 0),\n",
       " (7, 3, 1),\n",
       " (7, 3, 2),\n",
       " (7, 3, 3),\n",
       " (7, 3, 4),\n",
       " (7, 3, 5),\n",
       " (7, 3, 6),\n",
       " (7, 3, 7),\n",
       " (7, 4, 0),\n",
       " (7, 4, 1),\n",
       " (7, 4, 2),\n",
       " (7, 4, 3),\n",
       " (7, 4, 4),\n",
       " (7, 4, 5),\n",
       " (7, 4, 6),\n",
       " (7, 4, 7),\n",
       " (7, 5, 0),\n",
       " (7, 5, 1),\n",
       " (7, 5, 2),\n",
       " (7, 5, 3),\n",
       " (7, 5, 4),\n",
       " (7, 5, 5),\n",
       " (7, 5, 6),\n",
       " (7, 5, 7),\n",
       " (7, 6, 0),\n",
       " (7, 6, 1),\n",
       " (7, 6, 2),\n",
       " (7, 6, 3),\n",
       " (7, 6, 4),\n",
       " (7, 6, 5),\n",
       " (7, 6, 6),\n",
       " (7, 6, 7),\n",
       " (7, 7, 0),\n",
       " (7, 7, 1),\n",
       " (7, 7, 2),\n",
       " (7, 7, 3),\n",
       " (7, 7, 4),\n",
       " (7, 7, 5),\n",
       " (7, 7, 6),\n",
       " (7, 7, 7)]"
      ]
     },
     "execution_count": 57,
     "metadata": {},
     "output_type": "execute_result"
    }
   ],
   "source": [
    "import itertools\n",
    "p =d= q=range(0,8)#values of p,d,q range from 0 to 5\n",
    "pdq = list(itertools.product(p,d,q))\n",
    "pdq"
   ]
  },
  {
   "cell_type": "code",
   "execution_count": 58,
   "id": "6a7366bc",
   "metadata": {},
   "outputs": [
    {
     "name": "stdout",
     "output_type": "stream",
     "text": [
      "(0, 0, 0) 3749.2447484930453\n",
      "(0, 0, 1) 3637.2963888252007\n",
      "(0, 0, 2) 3638.7387604264227\n",
      "(0, 0, 3) 3633.9638133081853\n",
      "(0, 0, 4) 3616.268292061076\n",
      "(0, 0, 5) 3616.352275304556\n",
      "(0, 0, 6) 3608.167631431308\n",
      "(0, 0, 7) 3607.0976235595026\n",
      "(0, 1, 0) 3925.9631032154225\n",
      "(0, 1, 1) 3735.2832859129244\n",
      "(0, 1, 2) 3632.6300558963912\n",
      "(0, 1, 3) 3633.3011325125594\n",
      "(0, 1, 4) 3622.9000726958584\n",
      "(0, 1, 5) 3611.713716019551\n",
      "(0, 1, 6) 3611.2393552315384\n",
      "(0, 1, 7) 3659.999935931587\n",
      "(0, 2, 0) 4132.427613405551\n",
      "(0, 2, 1) 3912.383846260335\n",
      "(0, 2, 2) 3726.152055279806\n",
      "(0, 2, 3) 3632.9649972586335\n",
      "(0, 2, 4) 3653.703322532697\n",
      "(0, 2, 5) 3698.0096760797064\n",
      "(0, 2, 6) 3701.8533654273033\n",
      "(0, 2, 7) 3789.4928752312776\n",
      "(0, 3, 0) 4347.121014744207\n",
      "(0, 3, 1) 4117.360283904671\n",
      "(0, 3, 2) 3905.061669670619\n",
      "(0, 3, 3) 3747.9585850450944\n",
      "(0, 3, 4) 3680.8696886457046\n",
      "(0, 3, 5) 3836.52595218487\n",
      "(0, 3, 6) 3955.17104884763\n",
      "(0, 3, 7) 3964.787252179793\n",
      "(0, 4, 0) 4564.489245472745\n",
      "(0, 4, 1) 4332.2641748189\n",
      "(0, 4, 2) 4108.526876143321\n",
      "(0, 4, 3) 4093.126470959206\n",
      "(0, 4, 4) 3756.3641924954118\n",
      "(0, 4, 5) 4014.8728885687674\n",
      "(0, 4, 6) 4206.420684358554\n",
      "(0, 4, 7) 4156.263284363902\n",
      "(0, 5, 0) 4782.826844446071\n",
      "(0, 5, 1) 4590.407328983209\n",
      "(0, 5, 2) 4319.875976572082\n",
      "(0, 5, 3) 4094.322039489274\n",
      "(0, 5, 4) 3940.361079877468\n",
      "(0, 5, 5) 4230.182247999469\n",
      "(0, 5, 6) 4456.222742986352\n",
      "(0, 5, 7) 4369.517254957838\n",
      "(0, 6, 0) 5000.91837518568\n",
      "(0, 6, 1) 4819.136812016581\n",
      "(0, 6, 2) 4750.8450756255725\n",
      "(0, 6, 3) 4619.709632568451\n",
      "(0, 6, 4) 4203.47425642515\n",
      "(0, 6, 5) 4480.8033062004215\n",
      "(0, 6, 6) 4674.200975106483\n",
      "(0, 6, 7) 4594.8447546283005\n",
      "(0, 7, 0) 5217.904207658832\n",
      "(0, 7, 1) 5043.930831163704\n",
      "(0, 7, 2) 4981.65673183934\n",
      "(0, 7, 3) 4884.258684962073\n",
      "(0, 7, 4) 4719.599203956136\n",
      "(0, 7, 5) 4821.418787935796\n",
      "(0, 7, 6) 4885.443139119101\n",
      "(0, 7, 7) 4837.632402377584\n",
      "(1, 0, 0) 3712.3205900147295\n",
      "(1, 0, 1) 3638.801806651415\n",
      "(1, 0, 2) 3639.76763366678\n",
      "(1, 0, 3) 3642.243172061534\n",
      "(1, 0, 4) 3617.5232321835233\n",
      "(1, 0, 5) 3616.0003201728523\n",
      "(1, 0, 6) 3618.6033056080855\n",
      "(1, 0, 7) 3623.0377518154846\n",
      "(1, 1, 0) 3814.40638200316\n",
      "(1, 1, 1) 3698.5539432639325\n",
      "(1, 1, 2) 3633.356067698308\n",
      "(1, 1, 3) 3635.5482774473626\n",
      "(1, 1, 4) 3639.9547713927386\n",
      "(1, 1, 5) 3629.317463381393\n",
      "(1, 1, 6) 3612.8055555841083\n",
      "(1, 1, 7) 3636.31838830892\n",
      "(1, 2, 0) 3964.5387448866686\n",
      "(1, 2, 1) 3801.7321435195367\n",
      "(1, 2, 2) 3693.3322727880577\n",
      "(1, 2, 3) 3628.8622666615884\n",
      "(1, 2, 4) 3636.8570891565787\n",
      "(1, 2, 5) 3633.4219001891584\n",
      "(1, 2, 6) 3679.53709529899\n",
      "(1, 2, 7) 3693.145159737357\n",
      "(1, 3, 0) 4140.755741058262\n",
      "(1, 3, 1) 3950.582425598338\n",
      "(1, 3, 2) 3795.483784775454\n",
      "(1, 3, 3) 3686.2606593475357\n",
      "(1, 3, 4) 3735.526631278042\n",
      "(1, 3, 5) 3751.1022481040827\n",
      "(1, 3, 6) 3827.940218105959\n",
      "(1, 3, 7) 3792.417944007445\n",
      "(1, 4, 0) 4327.666303527421\n",
      "(1, 4, 1) 4127.68734964225\n",
      "(1, 4, 2) 3942.939244840762\n",
      "(1, 4, 3) 3786.3622149304097\n",
      "(1, 4, 4) 3906.2754404024026\n",
      "(1, 4, 5) 3908.320135345772\n",
      "(1, 4, 6) 4020.3507033852584\n",
      "(1, 4, 7) 3937.922983966158\n",
      "(1, 5, 0) 4520.17519254822\n",
      "(1, 5, 1) 4313.910705286009\n",
      "(1, 5, 2) 4116.3049653111775\n",
      "(1, 5, 3) 3953.2144815017004\n",
      "(1, 5, 4) 3959.2572918431893\n",
      "(1, 5, 5) 4115.72873434496\n",
      "(1, 5, 6) 4198.0382488170835\n",
      "(1, 5, 7) 4109.898289878617\n",
      "(1, 6, 0) 4717.323552965604\n",
      "(1, 6, 1) 4507.373946700316\n",
      "(1, 6, 2) 4300.3319468923655\n",
      "(1, 6, 3) 4102.653027223014\n",
      "(1, 6, 4) 4186.99632681601\n",
      "(1, 6, 5) 4346.779211386478\n",
      "(1, 6, 6) 4392.313056125836\n",
      "(1, 6, 7) 4304.924393650384\n",
      "(1, 7, 0) 4916.958174948928\n",
      "(1, 7, 1) 4705.469325480744\n",
      "(1, 7, 2) 4634.779662691171\n",
      "(1, 7, 3) 4548.948553029892\n",
      "(1, 7, 4) 4175.329587741889\n",
      "(1, 7, 5) 4587.657750187938\n",
      "(1, 7, 6) 4574.145274281656\n",
      "(1, 7, 7) 4530.868242596343\n",
      "(2, 0, 0) 3710.0850482054907\n",
      "(2, 0, 1) 3646.2920271485445\n",
      "(2, 0, 2) 3644.818023369013\n",
      "(2, 0, 3) 3564.8262804988203\n",
      "(2, 0, 4) 3537.8968014079\n",
      "(2, 0, 5) 3547.1942277414773\n",
      "(2, 0, 6) 3542.970477345356\n",
      "(2, 0, 7) 3616.651082259807\n",
      "(2, 1, 0) 3785.516674223531\n",
      "(2, 1, 1) 3696.581647846602\n",
      "(2, 1, 2) 3698.9750946289623\n",
      "(2, 1, 3) 3636.247980345438\n",
      "(2, 1, 4) 3634.25619099945\n",
      "(2, 1, 5) 3636.4041679019624\n",
      "(2, 1, 6) 3616.7484613507368\n",
      "(2, 1, 7) 3603.7947038206753\n",
      "(2, 2, 0) 3892.13908308503\n",
      "(2, 2, 1) 3773.210517150013\n",
      "(2, 2, 2) 3795.0211087691114\n",
      "(2, 2, 3) 3697.9425045360854\n",
      "(2, 2, 4) 3657.8310532865007\n",
      "(2, 2, 5) 3659.372744084391\n",
      "(2, 2, 6) 3673.946021898482\n",
      "(2, 2, 7) 3680.4847399421305\n",
      "(2, 3, 0) 4032.392574494469\n",
      "(2, 3, 1) 3878.8938671463575\n",
      "(2, 3, 2) 3764.9135757561876\n",
      "(2, 3, 3) 3693.268570675961\n",
      "(2, 3, 4) 3694.7490373076516\n",
      "(2, 3, 5) 3737.1378234986805\n",
      "(2, 3, 6) 3772.6141643350234\n",
      "(2, 3, 7) 3741.318946502254\n",
      "(2, 4, 0) 4194.269449860432\n",
      "(2, 4, 1) 4037.815372064759\n",
      "(2, 4, 2) 3869.063987964377\n",
      "(2, 4, 3) 3761.0472622718707\n",
      "(2, 4, 4) 3828.625398766275\n",
      "(2, 4, 5) 3872.6185487253033\n",
      "(2, 4, 6) 3908.013650656283\n",
      "(2, 4, 7) 3865.0848356685847\n",
      "(2, 5, 0) 4363.33562450431\n",
      "(2, 5, 1) 4198.011911714756\n",
      "(2, 5, 2) 4009.6773508333717\n",
      "(2, 5, 3) 3864.5827208567484\n",
      "(2, 5, 4) 3931.5379476297935\n",
      "(2, 5, 5) 4023.5803209143223\n",
      "(2, 5, 6) 4044.9628759299762\n",
      "(2, 5, 7) 4025.595815564958\n",
      "(2, 6, 0) 4536.703272950428\n",
      "(2, 6, 1) 4363.870862870881\n",
      "(2, 6, 2) 4265.049823013454\n",
      "(2, 6, 3) 4007.794282492667\n",
      "(2, 6, 4) 4008.3214413578735\n",
      "(2, 6, 5) 4197.4222231519025\n",
      "(2, 6, 6) 18.0\n",
      "(2, 6, 7) 4201.872426161696\n",
      "(2, 7, 0) 4716.570414469122\n",
      "(2, 7, 1) 4533.083824366771\n",
      "(2, 7, 2) 4432.4043304066545\n",
      "(2, 7, 3) 4390.435959536613\n",
      "(2, 7, 4) 4244.167579331395\n",
      "(2, 7, 5) 4405.656171313243\n",
      "(2, 7, 6) 4265.263515538392\n",
      "(2, 7, 7) 4400.013251041383\n",
      "(3, 0, 0) 3703.567718414662\n",
      "(3, 0, 1) 3634.820796251029\n",
      "(3, 0, 2) 3567.8144830904553\n",
      "(3, 0, 3) 3549.2396552755567\n",
      "(3, 0, 4) 3556.6199395554668\n",
      "(3, 0, 5) 3539.4271683816605\n",
      "(3, 0, 6) 3533.8076675000375\n",
      "(3, 0, 7) 3560.1898368510865\n",
      "(3, 1, 0) 3776.1955031185134\n",
      "(3, 1, 1) 3690.415205840436\n",
      "(3, 1, 2) 3698.6866682294167\n",
      "(3, 1, 3) 3697.4800858986846\n",
      "(3, 1, 4) 3642.6683259611673\n",
      "(3, 1, 5) 3558.0939331083982\n",
      "(3, 1, 6) 3635.241869872567\n",
      "(3, 1, 7) 3623.9785726402324\n",
      "(3, 2, 0) 3858.4383906353733\n",
      "(3, 2, 1) 3764.302498270121\n",
      "(3, 2, 2) 3725.0431023841584\n",
      "(3, 2, 3) 3639.7120066930916\n",
      "(3, 2, 4) 3689.4668639741803\n",
      "(3, 2, 5) 3716.914493073241\n",
      "(3, 2, 6) 3674.981805840418\n",
      "(3, 2, 7) 3683.4298620371237\n",
      "(3, 3, 0) 3966.1349452618083\n",
      "(3, 3, 1) 3882.1735222774664\n",
      "(3, 3, 2) 3770.916997870767\n",
      "(3, 3, 3) 3796.9610293509936\n",
      "(3, 3, 4) 3793.463420269131\n",
      "(3, 3, 5) 3738.3222022101772\n",
      "(3, 3, 6) 3773.2607810633244\n",
      "(3, 3, 7) 3733.8371029329696\n",
      "(3, 4, 0) 4103.618706459851\n",
      "(3, 4, 1) 3952.359145489388\n",
      "(3, 4, 2) 3840.13288894036\n",
      "(3, 4, 3) 3876.359890589974\n",
      "(3, 4, 4) 3809.0521325091613\n",
      "(3, 4, 5) 3863.9771280373657\n",
      "(3, 4, 6) 3873.1156872802494\n",
      "(3, 4, 7) 3844.4502046768434\n",
      "(3, 5, 0) 4263.187075609053\n",
      "(3, 5, 1) 4155.785822707197\n",
      "(3, 5, 2) 12.0\n",
      "(3, 5, 3) 3850.6640789953153\n",
      "(3, 5, 4) 3891.663470378084\n",
      "(3, 5, 5) 4013.9586281569414\n",
      "(3, 5, 6) 3993.544642231223\n",
      "(3, 5, 7) 4009.233258718885\n",
      "(3, 6, 0) 4425.876356142349\n",
      "(3, 6, 1) 4316.968870255913\n",
      "(3, 6, 2) 4164.143643508549\n",
      "(3, 6, 3) 4062.5044657612584\n",
      "(3, 6, 4) 4030.895554797822\n",
      "(3, 6, 5) 4178.474762582827\n",
      "(3, 6, 6) 4122.4763522977\n",
      "(3, 6, 7) 4147.422029075768\n",
      "(3, 7, 0) 4589.863741643017\n",
      "(3, 7, 1) 4480.172895111697\n",
      "(3, 7, 2) 4317.323224360027\n",
      "(3, 7, 3) 4112.4146466174825\n",
      "(3, 7, 4) 4229.2160665899655\n",
      "(3, 7, 5) 4316.27762428081\n",
      "(3, 7, 6) 4278.394446775215\n",
      "(3, 7, 7) 4322.516915152148\n",
      "(4, 0, 0) 3680.5669039364248\n",
      "(4, 0, 1) 3611.113196068716\n",
      "(4, 0, 2) 3539.073375024535\n",
      "(4, 0, 3) 3565.6486977115565\n",
      "(4, 0, 4) 3535.83576080041\n",
      "(4, 0, 5) 3538.260531432989\n",
      "(4, 0, 6) 3527.744287266056\n",
      "(4, 0, 7) 3542.543286944246\n",
      "(4, 1, 0) 3769.268097433932\n",
      "(4, 1, 1) 3696.2520328017786\n",
      "(4, 1, 2) 3611.122875714378\n",
      "(4, 1, 3) 3693.288709982926\n",
      "(4, 1, 4) 3700.4117264664965\n",
      "(4, 1, 5) 3538.9726636889063\n",
      "(4, 1, 6) 3634.4026924907703\n",
      "(4, 1, 7) 3649.6305347447037\n",
      "(4, 2, 0) 3844.2530571501893\n",
      "(4, 2, 1) 3779.439255916462\n",
      "(4, 2, 2) 3767.7148463647395\n",
      "(4, 2, 3) 3772.950343634749\n",
      "(4, 2, 4) 3828.0549468499585\n",
      "(4, 2, 5) 3694.246059068314\n",
      "(4, 2, 6) 3704.7968847704424\n",
      "(4, 2, 7) 3685.3968141187156\n",
      "(4, 3, 0) 3923.8922667213747\n",
      "(4, 3, 1) 3855.8877981744386\n",
      "(4, 3, 2) 3752.029130271706\n",
      "(4, 3, 3) 3767.4689473940402\n",
      "(4, 3, 4) 3803.7637559651694\n",
      "(4, 3, 5) 3708.140110600888\n",
      "(4, 3, 6) 3747.418330564028\n",
      "(4, 3, 7) 3743.3429379502254\n",
      "(4, 4, 0) 4018.89636595938\n",
      "(4, 4, 1) 3941.8575639804963\n"
     ]
    },
    {
     "name": "stdout",
     "output_type": "stream",
     "text": [
      "(4, 4, 2) 3887.9114728023105\n",
      "(4, 4, 3) 3867.5485990525067\n",
      "(4, 4, 4) 3768.5801924561183\n",
      "(4, 4, 5) 3789.9133338655424\n",
      "(4, 4, 6) 3818.1951403730154\n",
      "(4, 4, 7) 3801.2661013910156\n",
      "(4, 5, 0) 4141.132853794816\n",
      "(4, 5, 1) 4004.7121116492585\n",
      "(4, 5, 2) 3952.6583362594642\n",
      "(4, 5, 4) 3856.9816601666\n",
      "(4, 5, 5) 3907.5405266093157\n",
      "(4, 5, 6) 3907.879015476634\n",
      "(4, 5, 7) 3908.613163577569\n",
      "(4, 6, 0) 4291.975880525988\n",
      "(4, 6, 1) 4188.6471844233465\n",
      "(4, 6, 2) 4056.6778318053225\n",
      "(4, 6, 3) 4032.9509845172656\n",
      "(4, 6, 4) 3951.978031075847\n",
      "(4, 6, 5) 4048.473135819302\n",
      "(4, 6, 6) 4016.654626847371\n",
      "(4, 6, 7) 4038.377164111197\n",
      "(4, 7, 0) 4450.698921076619\n",
      "(4, 7, 1) 4344.051624724825\n",
      "(4, 7, 2) 4179.317563938656\n",
      "(4, 7, 3) 4146.574187983615\n",
      "(4, 7, 4) 4062.2020098066905\n",
      "(4, 7, 5) 4181.513688315206\n",
      "(4, 7, 6) 4148.617745878493\n",
      "(4, 7, 7) 4173.893536733716\n",
      "(5, 0, 0) 3632.6328118889764\n",
      "(5, 0, 1) 3572.6624148702076\n",
      "(5, 0, 2) 3526.9357477280173\n",
      "(5, 0, 3) 3525.6600889207557\n",
      "(5, 0, 4) 3531.021857932925\n",
      "(5, 0, 5) 3529.607801782401\n",
      "(5, 0, 6) 3531.1471830121554\n",
      "(5, 0, 7) 3525.549312385257\n",
      "(5, 1, 0) 3750.656591230618\n",
      "(5, 1, 1) 3628.8576397434217\n",
      "(5, 1, 2) 3590.6883199832\n",
      "(5, 1, 3) 3527.4480634377996\n",
      "(5, 1, 4) 3561.713346154206\n",
      "(5, 1, 5) 3532.8167665328083\n",
      "(5, 1, 6) 3546.797319723995\n",
      "(5, 1, 7) 3592.161262262336\n",
      "(5, 2, 0) 3841.2194645117875\n",
      "(5, 2, 1) 3768.6934152880585\n",
      "(5, 2, 2) 3700.246357466637\n",
      "(5, 2, 3) 3794.184820427744\n",
      "(5, 2, 4) 3813.9314620412006\n",
      "(5, 2, 5) 3693.380329232236\n",
      "(5, 2, 6) 3702.7207830904754\n",
      "(5, 2, 7) 3715.4393040213317\n",
      "(5, 3, 0) 3918.498002749069\n",
      "(5, 3, 1) 3852.5447960022925\n",
      "(5, 3, 2) 3849.553162850117\n",
      "(5, 3, 3) 3756.766538096538\n",
      "(5, 3, 4) 3817.2694156591688\n",
      "(5, 3, 5) 3771.6286589370357\n",
      "(5, 3, 6) 3790.6388623074827\n",
      "(5, 3, 7) 3741.3452242878357\n",
      "(5, 4, 0) 3999.8346682867254\n",
      "(5, 4, 1) 3931.04026597787\n",
      "(5, 4, 2) 3930.487857055493\n",
      "(5, 4, 3) 3853.6245904661596\n",
      "(5, 4, 4) 3849.583473823536\n",
      "(5, 4, 5) 3856.2367094080187\n",
      "(5, 4, 6) 3811.5768415736584\n",
      "(5, 4, 7) 3799.069623687081\n",
      "(5, 5, 0) 4094.49866483217\n",
      "(5, 5, 1) 4017.9195108985277\n",
      "(5, 5, 2) 3964.859703191238\n",
      "(5, 5, 3) 3956.0994240161285\n",
      "(5, 5, 4) 3850.2567816083897\n",
      "(5, 5, 5) 3867.6915816241626\n",
      "(5, 5, 6) 3903.1846149103344\n",
      "(5, 5, 7) 3887.2258596582824\n",
      "(5, 6, 0) 4218.74302114732\n",
      "(5, 6, 1) 14.0\n",
      "(5, 6, 2) 4051.729490996556\n",
      "(5, 6, 3) 4050.3983478877485\n",
      "(5, 6, 4) 3945.1104769385292\n",
      "(5, 6, 5) 4005.0055232643263\n",
      "(5, 6, 6) 3966.085970267077\n",
      "(5, 6, 7) 3995.079119166275\n",
      "(5, 7, 0) 4365.086220221186\n",
      "(5, 7, 1) 14.0\n",
      "(5, 7, 2) 4165.920886297688\n",
      "(5, 7, 3) 4154.541784332532\n",
      "(5, 7, 4) 4076.860098367518\n",
      "(5, 7, 5) 4149.565459643855\n",
      "(5, 7, 6) 4084.2975073763237\n",
      "(5, 7, 7) 4121.114744985804\n",
      "(6, 0, 0) 3556.8977910484027\n",
      "(6, 0, 1) 3530.700622398773\n",
      "(6, 0, 2) 3523.966493133347\n",
      "(6, 0, 3) 3517.060176885659\n",
      "(6, 0, 4) 3517.442190107191\n",
      "(6, 0, 5) 3520.3082346067995\n",
      "(6, 0, 6) 3516.659070792892\n",
      "(6, 0, 7) 3529.233993132284\n",
      "(6, 1, 0) 3680.8502131953137\n",
      "(6, 1, 1) 3592.7041496482752\n",
      "(6, 1, 2) 3583.1002119415734\n",
      "(6, 1, 3) 3522.522836151431\n",
      "(6, 1, 4) 3516.5898617965213\n",
      "(6, 1, 5) 3509.7530031035517\n",
      "(6, 1, 6) 3513.409969349009\n",
      "(6, 1, 7) 3545.919068618732\n",
      "(6, 2, 0) 3804.5401175325915\n",
      "(6, 2, 1) 3680.7458562916026\n",
      "(6, 2, 2) 3684.2606741945583\n",
      "(6, 2, 3) 3567.9744629004017\n",
      "(6, 2, 4) 3536.4070318508184\n",
      "(6, 2, 5) 3547.054012207999\n",
      "(6, 2, 6) 3589.6930508998157\n",
      "(6, 2, 7) 3614.951883021011\n",
      "(6, 3, 0) 3903.2933635925965\n",
      "(6, 3, 1) 3826.957214033274\n",
      "(6, 3, 2) 3787.2255085608813\n",
      "(6, 3, 3) 3657.7322030097785\n",
      "(6, 3, 4) 4032.283543693843\n",
      "(6, 3, 5) 3765.461634470866\n",
      "(6, 3, 6) 3769.675149346973\n",
      "(6, 3, 7) 3774.0988169678067\n",
      "(6, 4, 0) 3985.136167202018\n",
      "(6, 4, 1) 3917.004579991297\n",
      "(6, 4, 2) 3878.923055012355\n",
      "(6, 4, 3) 3780.8397397455715\n",
      "(6, 4, 4) 3662.0342052596334\n",
      "(6, 4, 5) 3826.928365744437\n",
      "(6, 4, 6) 3847.1011705549968\n",
      "(6, 4, 7) 3813.494920684262\n",
      "(6, 5, 0) 4062.132924480809\n",
      "(6, 5, 1) 3996.1655354651048\n",
      "(6, 5, 2) 3961.829429730332\n",
      "(6, 5, 3) 3899.5254857795417\n",
      "(6, 5, 4) 3902.0784596090048\n",
      "(6, 5, 5) 3924.107252296046\n",
      "(6, 5, 6) 3882.582958024811\n",
      "(6, 5, 7) 3872.468592230721\n",
      "(6, 6, 0) 4153.339710921329\n",
      "(6, 6, 1) 4078.9280054465034\n",
      "(6, 6, 2) 4049.0638784585426\n",
      "(6, 6, 3) 4024.64564454057\n",
      "(6, 6, 4) 3944.3805483802103\n",
      "(6, 6, 5) 3931.2038431603996\n",
      "(6, 6, 6) 3908.6639583133306\n",
      "(6, 6, 7) 3950.037707918591\n",
      "(6, 7, 0) 4278.343526885664\n",
      "(6, 7, 1) 4199.730633874146\n",
      "(6, 7, 2) 4159.6009755946525\n",
      "(6, 7, 3) 4081.9734378080475\n",
      "(6, 7, 4) 4061.3263482297953\n",
      "(6, 7, 5) 4074.75261343372\n",
      "(6, 7, 6) 4014.807030005691\n",
      "(6, 7, 7) 4056.664556461355\n",
      "(7, 0, 0) 3529.665751593821\n",
      "(7, 0, 1) 3527.4514870556777\n",
      "(7, 0, 2) 3520.2746507340726\n",
      "(7, 0, 3) 3517.332409255152\n",
      "(7, 0, 4) 3519.1761528219877\n",
      "(7, 0, 5) 3520.851569842489\n",
      "(7, 0, 6) 3518.2891792313994\n",
      "(7, 0, 7) 3526.4607926218077\n",
      "(7, 1, 0) 3630.552578803445\n",
      "(7, 1, 1) 3554.2698215933215\n",
      "(7, 1, 2) 3552.829823274997\n",
      "(7, 1, 3) 3522.6720661725058\n",
      "(7, 1, 4) 3512.9916184008416\n",
      "(7, 1, 5) 3508.3794263150485\n",
      "(7, 1, 6) 3517.117334987289\n",
      "(7, 1, 7) 3530.4978512503476\n",
      "(7, 2, 0) 3764.072499132941\n",
      "(7, 2, 1) 3673.7848439693453\n",
      "(7, 2, 2) 3648.0814327815933\n",
      "(7, 2, 4) 3534.018923025258\n",
      "(7, 2, 5) 3534.427258420978\n",
      "(7, 2, 6) 3573.61931255686\n",
      "(7, 2, 7) 3580.033106223773\n",
      "(7, 3, 0) 3883.4591356982664\n",
      "(7, 3, 1) 3781.0594133792747\n",
      "(7, 3, 2) 3763.1638665659984\n",
      "(7, 3, 3) 3654.178489378335\n",
      "(7, 3, 4) 4019.6967904616276\n",
      "(7, 3, 5) 3622.0573199038645\n",
      "(7, 3, 6) 3694.8930893858615\n",
      "(7, 3, 7) 3670.5924296686244\n",
      "(7, 4, 0) 3978.400830130468\n",
      "(7, 4, 1) 3904.2999804247484\n",
      "(7, 4, 2) 3864.993875020735\n",
      "(7, 4, 3) 3774.0748732395414\n",
      "(7, 4, 4) 3647.904801287322\n",
      "(7, 4, 5) 3822.1012748985295\n",
      "(7, 4, 6) 3853.934261851982\n",
      "(7, 4, 7) 3846.9762580490105\n",
      "(7, 5, 0) 4055.540275016337\n",
      "(7, 5, 1) 3990.305631078134\n",
      "(7, 5, 2) 20.0\n",
      "(7, 5, 3) 3988.614634204769\n",
      "(7, 5, 4) 3746.597647247738\n",
      "(7, 5, 5) 3901.7333032829924\n",
      "(7, 5, 6) 3915.6699544519124\n",
      "(7, 5, 7) 3886.9849392130077\n",
      "(7, 6, 0) 4127.577737100561\n",
      "(7, 6, 1) 18.0\n",
      "(7, 6, 2) 4031.103011924968\n",
      "(7, 6, 3) 4023.036678297178\n",
      "(7, 6, 4) 3952.521157160517\n",
      "(7, 6, 5) 3989.6892758612075\n",
      "(7, 6, 6) 3933.1944343444857\n",
      "(7, 6, 7) 3938.0773747837384\n",
      "(7, 7, 0) 4214.122459388504\n",
      "(7, 7, 1) 4160.149145760986\n",
      "(7, 7, 2) 4113.4268348317355\n",
      "(7, 7, 3) 4103.637768178085\n",
      "(7, 7, 4) 4080.9001011976225\n",
      "(7, 7, 5) 4012.23493326869\n",
      "(7, 7, 6) 4006.3855226048513\n",
      "(7, 7, 7) 4001.0615685616267\n"
     ]
    }
   ],
   "source": [
    "list1=[]\n",
    "list2=[]\n",
    "for params in pdq: #iterating params over pdq\n",
    "    try:\n",
    "        model_arima = ARIMA(train, order=params)\n",
    "        model_arima_fit = model_arima.fit()\n",
    "        print(params, model_arima_fit.aic)\n",
    "        list1.append(params)\n",
    "        list2.append(model_arima_fit.aic)\n",
    "    except:\n",
    "        continue"
   ]
  },
  {
   "cell_type": "code",
   "execution_count": 59,
   "id": "d3820300",
   "metadata": {},
   "outputs": [
    {
     "data": {
      "text/plain": [
       "12.0"
      ]
     },
     "execution_count": 59,
     "metadata": {},
     "output_type": "execute_result"
    }
   ],
   "source": [
    "min(list2)  # lowest aic score"
   ]
  },
  {
   "cell_type": "code",
   "execution_count": 60,
   "id": "960826ed",
   "metadata": {},
   "outputs": [
    {
     "data": {
      "text/plain": [
       "(3, 5, 2)"
      ]
     },
     "execution_count": 60,
     "metadata": {},
     "output_type": "execute_result"
    }
   ],
   "source": [
    "loc=list2.index(min(list2))\n",
    "list1[loc]"
   ]
  },
  {
   "cell_type": "code",
   "execution_count": 61,
   "id": "c46375c6",
   "metadata": {},
   "outputs": [],
   "source": [
    "model_arima = ARIMA(train, order=(3, 5,2))\n",
    "model_arima_fit2 = model_arima.fit()"
   ]
  },
  {
   "cell_type": "code",
   "execution_count": 62,
   "id": "fe443f64",
   "metadata": {},
   "outputs": [
    {
     "data": {
      "text/plain": [
       "2020-08-02   -19648451251.26\n",
       "2020-08-03   -20096882760.35\n",
       "2020-08-04   -20552943332.40\n",
       "2020-08-05   -21016718741.58\n",
       "2020-08-06   -21488295298.12\n",
       "2020-08-07   -21967759730.41\n",
       "2020-08-08   -22455199302.88\n",
       "2020-08-09   -22950701698.16\n",
       "2020-08-10   -23454355134.94\n",
       "2020-08-11   -23966248250.07\n",
       "Freq: D, Name: predicted_mean, dtype: float64"
      ]
     },
     "execution_count": 62,
     "metadata": {},
     "output_type": "execute_result"
    }
   ],
   "source": [
    "forecast = model_arima_fit2.forecast(steps=10)\n",
    "forecast "
   ]
  },
  {
   "cell_type": "markdown",
   "id": "dff371b2",
   "metadata": {},
   "source": [
    "## Plot based on iterating params over pdq"
   ]
  },
  {
   "cell_type": "code",
   "execution_count": 63,
   "id": "5300060d",
   "metadata": {},
   "outputs": [
    {
     "data": {
      "image/png": "[encoded data removed]",
      "text/plain": [
       "<Figure size 640x480 with 1 Axes>"
      ]
     },
     "metadata": {},
     "output_type": "display_data"
    }
   ],
   "source": [
    "plt.plot(test[:10])\n",
    "plt.plot(forecast,color='green')\n",
    "plt.xticks(rotation=45)\n",
    "plt.show()"
   ]
  },
  {
   "cell_type": "markdown",
   "id": "e9645c9b",
   "metadata": {},
   "source": [
    "## Plot based intuition"
   ]
  },
  {
   "cell_type": "code",
   "execution_count": 64,
   "id": "cee7a476",
   "metadata": {},
   "outputs": [
    {
     "data": {
      "image/png": "[encoded data removed]",
      "text/plain": [
       "<Figure size 640x480 with 1 Axes>"
      ]
     },
     "metadata": {},
     "output_type": "display_data"
    }
   ],
   "source": [
    "plt.plot(test[:10])\n",
    "plt.plot(predictions,color='green')\n",
    "plt.xticks(rotation=45)\n",
    "plt.show()"
   ]
  },
  {
   "cell_type": "markdown",
   "id": "c6e9f832",
   "metadata": {},
   "source": [
    "* In the analysis, two plots were drawn: one using an iterative approach over various parameter combinations (pdq) and another based on intuition for selecting a specific pdq value. Remarkably, the plot derived from the intuition-driven pdq value outperformed the iterative approach"
   ]
  },
  {
   "cell_type": "code",
   "execution_count": 65,
   "id": "e1c0941c",
   "metadata": {},
   "outputs": [
    {
     "data": {
      "text/plain": [
       "array([ -2298.,   8693.,  14384., -16902.,  11612.,  -8401.,   -480.,\n",
       "        -7240.,  11840.,  -5329.,  12123., -14051.,  17403., -29128.,\n",
       "        10516.,  -1071.,  16887.,  -8578.,  -3786.,   7013.,  -8623.,\n",
       "        -6002.,  13341.,  -3033.,   5652.])"
      ]
     },
     "execution_count": 65,
     "metadata": {},
     "output_type": "execute_result"
    }
   ],
   "source": [
    "forecast25 = model_arima_fit.forecast(steps=25)\n",
    "test1 = test[0:25].values.flatten()\n",
    "test1"
   ]
  },
  {
   "cell_type": "markdown",
   "id": "7af03805",
   "metadata": {},
   "source": [
    "## Plot for next 25 forecasts."
   ]
  },
  {
   "cell_type": "code",
   "execution_count": 66,
   "id": "0bdbb89e",
   "metadata": {},
   "outputs": [
    {
     "data": {
      "image/png": "[encoded data removed]",
      "text/plain": [
       "<Figure size 640x480 with 1 Axes>"
      ]
     },
     "metadata": {},
     "output_type": "display_data"
    }
   ],
   "source": [
    "plt.plot(test[:25])\n",
    "plt.plot(forecast25,color='green')\n",
    "plt.xticks(rotation=45)\n",
    "plt.show()"
   ]
  },
  {
   "cell_type": "markdown",
   "id": "8cf65e46",
   "metadata": {},
   "source": [
    "## Accuracy metrics"
   ]
  },
  {
   "cell_type": "code",
   "execution_count": 67,
   "id": "c2ad4fc6",
   "metadata": {},
   "outputs": [
    {
     "data": {
      "text/plain": [
       "{'mse': 563828382300.5022, 'mae': 476834.1020695537, 'rmse': 750885.0659724844}"
      ]
     },
     "execution_count": 67,
     "metadata": {},
     "output_type": "execute_result"
    }
   ],
   "source": [
    "def forecast_accuracy(forecast, actual):\n",
    "    mse = np.mean((forecast - actual)**2)        # MSE\n",
    "    mae = np.mean(np.abs(forecast - actual))    # MAE\n",
    "    rmse = np.mean((forecast - actual)**2)**.5  # RMSE\n",
    "    \n",
    " \n",
    "    return({'mse':mse, 'mae': mae, 'rmse':rmse})\n",
    "\n",
    "forecast_accuracy(forecast25, test1)"
   ]
  },
  {
   "cell_type": "code",
   "execution_count": 68,
   "id": "fa4b1229",
   "metadata": {},
   "outputs": [
    {
     "name": "stdout",
     "output_type": "stream",
     "text": [
      "750885.0659724844\n"
     ]
    }
   ],
   "source": [
    "from sklearn.metrics import mean_squared_error\n",
    "from statsmodels.tools.eval_measures import rmse\n",
    "\n",
    "# Calculate root mean squared error\n",
    "print(rmse(test1, forecast25))"
   ]
  },
  {
   "cell_type": "markdown",
   "id": "9c886137",
   "metadata": {},
   "source": [
    "* Our dataset contains so many confirmed cases so RMSE of 750885.06 is reasonable."
   ]
  },
  {
   "cell_type": "markdown",
   "id": "e53d03e5",
   "metadata": {},
   "source": [
    "# SARIMAX Model"
   ]
  },
  {
   "cell_type": "code",
   "execution_count": 69,
   "id": "c5a86b42",
   "metadata": {},
   "outputs": [],
   "source": [
    "from statsmodels.tsa.statespace.sarimax import SARIMAX\n",
    "model = SARIMAX(train, order=(8,3,1), seasonal_order=(8,3,1,12))\n",
    "model_sarima = model.fit()"
   ]
  },
  {
   "cell_type": "code",
   "execution_count": 70,
   "id": "4a63068c",
   "metadata": {},
   "outputs": [
    {
     "name": "stdout",
     "output_type": "stream",
     "text": [
      "3378.9746616107864\n"
     ]
    }
   ],
   "source": [
    "print(model_sarima.aic)"
   ]
  },
  {
   "cell_type": "code",
   "execution_count": 71,
   "id": "a6b1229a",
   "metadata": {},
   "outputs": [],
   "source": [
    "predictions_sarima = model_sarima.forecast(steps=10)"
   ]
  },
  {
   "cell_type": "markdown",
   "id": "980abe71",
   "metadata": {},
   "source": [
    "## Plot for next 10 forecasts."
   ]
  },
  {
   "cell_type": "code",
   "execution_count": 72,
   "id": "e88ce046",
   "metadata": {},
   "outputs": [
    {
     "data": {
      "image/png": "[encoded data removed]",
      "text/plain": [
       "<Figure size 640x480 with 1 Axes>"
      ]
     },
     "metadata": {},
     "output_type": "display_data"
    }
   ],
   "source": [
    "plt.plot(test[:10])\n",
    "plt.plot(predictions_sarima,color='green')\n",
    "plt.xticks(rotation=45)\n",
    "plt.show()"
   ]
  },
  {
   "cell_type": "code",
   "execution_count": 73,
   "id": "689e3f6e",
   "metadata": {},
   "outputs": [
    {
     "data": {
      "text/plain": [
       "array([ -2298.,   8693.,  14384., -16902.,  11612.,  -8401.,   -480.,\n",
       "        -7240.,  11840.,  -5329.,  12123., -14051.,  17403., -29128.,\n",
       "        10516.,  -1071.,  16887.,  -8578.,  -3786.,   7013.,  -8623.,\n",
       "        -6002.,  13341.,  -3033.,   5652.])"
      ]
     },
     "execution_count": 73,
     "metadata": {},
     "output_type": "execute_result"
    }
   ],
   "source": [
    "forecast25 = model_sarima.forecast(steps=25)\n",
    "test1 = test[0:25].values.flatten()\n",
    "test1"
   ]
  },
  {
   "cell_type": "markdown",
   "id": "e7397fce",
   "metadata": {},
   "source": [
    "## Plot for next 25 forecasts"
   ]
  },
  {
   "cell_type": "code",
   "execution_count": 74,
   "id": "b924f569",
   "metadata": {},
   "outputs": [
    {
     "data": {
      "image/png": "[encoded data removed]",
      "text/plain": [
       "<Figure size 640x480 with 1 Axes>"
      ]
     },
     "metadata": {},
     "output_type": "display_data"
    }
   ],
   "source": [
    "plt.plot(test[:25])\n",
    "plt.plot(forecast25,color='green')\n",
    "plt.xticks(rotation=45)\n",
    "plt.show()"
   ]
  },
  {
   "cell_type": "markdown",
   "id": "09e339bb",
   "metadata": {},
   "source": [
    "## Accuracy Metrics"
   ]
  },
  {
   "cell_type": "code",
   "execution_count": 75,
   "id": "9f1665cd",
   "metadata": {},
   "outputs": [
    {
     "data": {
      "text/plain": [
       "{'mse': 640358110.8171579,\n",
       " 'mae': 20550.97586188106,\n",
       " 'rmse': 25305.298078014373}"
      ]
     },
     "execution_count": 75,
     "metadata": {},
     "output_type": "execute_result"
    }
   ],
   "source": [
    "forecast_accuracy(forecast25, test1)"
   ]
  },
  {
   "cell_type": "code",
   "execution_count": 76,
   "id": "6ab5bf0e",
   "metadata": {},
   "outputs": [
    {
     "name": "stdout",
     "output_type": "stream",
     "text": [
      "25305.298078014373\n"
     ]
    }
   ],
   "source": [
    "from sklearn.metrics import mean_squared_error\n",
    "from statsmodels.tools.eval_measures import rmse\n",
    "\n",
    "# Calculate root mean squared error\n",
    "print(rmse(test1, forecast25))"
   ]
  },
  {
   "cell_type": "markdown",
   "id": "277814f5",
   "metadata": {},
   "source": [
    "# Model Comparison Report\n",
    "#### RMSE Score for the model\n",
    "\n",
    "* ARIMA : 750885.06 \n",
    "\n",
    "\n",
    "* SARIMAX : 25305.29\n",
    "\n",
    "##### The SARIMAX model outperforms the ARIMA model in terms of prediction accuracy, as indicated by the lower RMSE score (25746.87   versus   750885.06)."
   ]
  },
  {
   "cell_type": "markdown",
   "id": "43295466",
   "metadata": {},
   "source": [
    "# Suggestions for the US Government Health Department based on COVID-19 Time Series Analysis:\n",
    "\n",
    "##### Global Preparedness:\n",
    "Acknowledge the global impact of COVID-19, with data spanning 188 countries, emphasizing the need for collaborative global preparedness efforts.\n",
    "\n",
    "##### Variable Counts:\n",
    "Prepare for a wide range of reported counts (0.00 to 6,856,884), suggesting varied severity levels. Ensure resources accommodate potential large counts.\n",
    "\n",
    "##### Temporal Trends:\n",
    "Acknowledge temporal patterns, especially the peak in confirmed cases, recoveries, and deaths on September 21, 2020. Enhance preparedness for potential surges during similar periods.\n",
    "\n",
    "##### Prioritize Testing and Surveillance:\n",
    "Strengthen testing and surveillance efforts, particularly in regions with diverse latitudinal and longitudinal values, to identify and respond to emerging cases promptly.\n",
    "\n",
    "##### Vaccination Strategy:\n",
    "Implement a targeted vaccination strategy, focusing on countries and regions forecasted for increased cases. Prioritize vaccination efforts during critical temporal periods.\n",
    "\n",
    "##### Collaborative Response:\n",
    "Collaborate internationally for data sharing and coordinated responses. Leverage insights from countries like China to enhance preparedness measures.\n",
    "\n",
    "##### Resource Allocation:\n",
    "Allocate medical resources based on predicted trends, considering potential surges and varying severity levels across countries and regions.\n",
    "\n",
    "##### Public Awareness Campaigns:\n",
    "Enhance public awareness campaigns tailored to geographical and temporal trends. Communicate preventive measures, vaccination information, and resource availability effectively.\n",
    "\n",
    "\n",
    "\n",
    "\n",
    "These recommendations aim to guide the government health department in developing a comprehensive and proactive strategy for preparedness and response to COVID-19, considering the insights derived from the data analysis."
   ]
  },
  {
   "cell_type": "markdown",
   "id": "77b6144f",
   "metadata": {},
   "source": [
    "# Report on Challenges Faced\n",
    "\n",
    "Faced challenges in interacting separately with three datasets, leading to potential complexity and information loss. Due to AR model limitations with multiindex, opted to use only the date as an index. Decided to combine the three datasets for a more cohesive analysis and modeling approach. A significant challenge lies in determining optimal ARIMA parameters (p, d, q), requiring exploration of various combinations and iterative testing for model accuracy. Overall, streamlining data representation and addressing modeling challenges are crucial for effective time series forecasting."
   ]
  },
  {
   "cell_type": "markdown",
   "id": "69895467",
   "metadata": {},
   "source": [
    "# Conclusion\n",
    "\n",
    "Concluding the time series analysis on the John Hopkins dataset for confirmed COVID-19 cases in the US, SARIMAX model with an RMSE of 25305.29 emerged as the best fit, providing a reasonable level of accuracy given the dataset's size. Challenges encountered included the need to interact separately with multiple datasets, prompting the decision to combine them for a comprehensive analysis. The choice to use ARIMA over SARIMAX was influenced by the dataset's nature. A significant difficulty was in determining the optimal ARIMA parameters (p, d, q), requiring thorough exploration and iterative testing. Despite challenges, the SARIMAX model showcased its effectiveness in capturing the temporal patterns of COVID-19 cases in the US, providing valuable insights for forecasting and decision-making."
   ]
  },
  {
   "cell_type": "markdown",
   "id": "b07ea6f6",
   "metadata": {},
   "source": [
    "# Thank you for taking the time to review this project.\n",
    "\n",
    "Best regards,\n",
    "\n",
    "Aarti Valase."
   ]
  },
  {
   "cell_type": "code",
   "execution_count": null,
   "id": "e06dc71f",
   "metadata": {},
   "outputs": [],
   "source": []
  }
 ],
 "metadata": {
  "kernelspec": {
   "display_name": "Python 3 (ipykernel)",
   "language": "python",
   "name": "python3"
  },
  "language_info": {
   "codemirror_mode": {
    "name": "ipython",
    "version": 3
   },
   "file_extension": ".py",
   "mimetype": "text/x-python",
   "name": "python",
   "nbconvert_exporter": "python",
   "pygments_lexer": "ipython3",
   "version": "3.11.3"
  }
 },
 "nbformat": 4,
 "nbformat_minor": 5
}
